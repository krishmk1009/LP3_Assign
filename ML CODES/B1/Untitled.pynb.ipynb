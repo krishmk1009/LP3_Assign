{
 "cells": [
  {
   "cell_type": "code",
   "execution_count": 1,
   "metadata": {
    "id": "nVGGCg5JfncJ"
   },
   "outputs": [],
   "source": [
    "import pandas as pd\n",
    "import numpy as np\n",
    "import seaborn as sns\n",
    "import matplotlib.pyplot as plt\n",
    "import pylab\n",
    "from sklearn.model_selection import train_test_split\n",
    "from sklearn import metrics\n",
    "from sklearn.ensemble import RandomForestRegressor\n",
    "from sklearn import metrics\n",
    "from sklearn import preprocessing"
   ]
  },
  {
   "cell_type": "code",
   "execution_count": 2,
   "metadata": {
    "id": "UZ9C7dKSf0q6"
   },
   "outputs": [],
   "source": [
    "df = pd.read_csv('uber.csv')"
   ]
  },
  {
   "cell_type": "code",
   "execution_count": 3,
   "metadata": {
    "colab": {
     "base_uri": "https://localhost:8080/"
    },
    "id": "L7bFYN9YhXa8",
    "outputId": "6b0d0331-2abc-4423-e353-af4dbe86cb8f"
   },
   "outputs": [
    {
     "name": "stdout",
     "output_type": "stream",
     "text": [
      "<class 'pandas.core.frame.DataFrame'>\n",
      "RangeIndex: 200000 entries, 0 to 199999\n",
      "Data columns (total 9 columns):\n",
      " #   Column             Non-Null Count   Dtype  \n",
      "---  ------             --------------   -----  \n",
      " 0   Unnamed: 0         200000 non-null  int64  \n",
      " 1   key                200000 non-null  object \n",
      " 2   fare_amount        200000 non-null  float64\n",
      " 3   pickup_datetime    200000 non-null  object \n",
      " 4   pickup_longitude   200000 non-null  float64\n",
      " 5   pickup_latitude    200000 non-null  float64\n",
      " 6   dropoff_longitude  199999 non-null  float64\n",
      " 7   dropoff_latitude   199999 non-null  float64\n",
      " 8   passenger_count    200000 non-null  int64  \n",
      "dtypes: float64(5), int64(2), object(2)\n",
      "memory usage: 13.7+ MB\n"
     ]
    }
   ],
   "source": [
    "\n",
    "df.info()"
   ]
  },
  {
   "cell_type": "code",
   "execution_count": 4,
   "metadata": {
    "colab": {
     "base_uri": "https://localhost:8080/",
     "height": 354
    },
    "id": "BkdXV-yShaSb",
    "outputId": "94afa89b-2f7d-465f-8abc-59816eceb956"
   },
   "outputs": [
    {
     "data": {
      "text/html": [
       "<div>\n",
       "<style scoped>\n",
       "    .dataframe tbody tr th:only-of-type {\n",
       "        vertical-align: middle;\n",
       "    }\n",
       "\n",
       "    .dataframe tbody tr th {\n",
       "        vertical-align: top;\n",
       "    }\n",
       "\n",
       "    .dataframe thead th {\n",
       "        text-align: right;\n",
       "    }\n",
       "</style>\n",
       "<table border=\"1\" class=\"dataframe\">\n",
       "  <thead>\n",
       "    <tr style=\"text-align: right;\">\n",
       "      <th></th>\n",
       "      <th>Unnamed: 0</th>\n",
       "      <th>key</th>\n",
       "      <th>fare_amount</th>\n",
       "      <th>pickup_datetime</th>\n",
       "      <th>pickup_longitude</th>\n",
       "      <th>pickup_latitude</th>\n",
       "      <th>dropoff_longitude</th>\n",
       "      <th>dropoff_latitude</th>\n",
       "      <th>passenger_count</th>\n",
       "    </tr>\n",
       "  </thead>\n",
       "  <tbody>\n",
       "    <tr>\n",
       "      <th>0</th>\n",
       "      <td>24238194</td>\n",
       "      <td>2015-05-07 19:52:06.0000003</td>\n",
       "      <td>7.5</td>\n",
       "      <td>2015-05-07 19:52:06 UTC</td>\n",
       "      <td>-73.999817</td>\n",
       "      <td>40.738354</td>\n",
       "      <td>-73.999512</td>\n",
       "      <td>40.723217</td>\n",
       "      <td>1</td>\n",
       "    </tr>\n",
       "    <tr>\n",
       "      <th>1</th>\n",
       "      <td>27835199</td>\n",
       "      <td>2009-07-17 20:04:56.0000002</td>\n",
       "      <td>7.7</td>\n",
       "      <td>2009-07-17 20:04:56 UTC</td>\n",
       "      <td>-73.994355</td>\n",
       "      <td>40.728225</td>\n",
       "      <td>-73.994710</td>\n",
       "      <td>40.750325</td>\n",
       "      <td>1</td>\n",
       "    </tr>\n",
       "    <tr>\n",
       "      <th>2</th>\n",
       "      <td>44984355</td>\n",
       "      <td>2009-08-24 21:45:00.00000061</td>\n",
       "      <td>12.9</td>\n",
       "      <td>2009-08-24 21:45:00 UTC</td>\n",
       "      <td>-74.005043</td>\n",
       "      <td>40.740770</td>\n",
       "      <td>-73.962565</td>\n",
       "      <td>40.772647</td>\n",
       "      <td>1</td>\n",
       "    </tr>\n",
       "    <tr>\n",
       "      <th>3</th>\n",
       "      <td>25894730</td>\n",
       "      <td>2009-06-26 08:22:21.0000001</td>\n",
       "      <td>5.3</td>\n",
       "      <td>2009-06-26 08:22:21 UTC</td>\n",
       "      <td>-73.976124</td>\n",
       "      <td>40.790844</td>\n",
       "      <td>-73.965316</td>\n",
       "      <td>40.803349</td>\n",
       "      <td>3</td>\n",
       "    </tr>\n",
       "    <tr>\n",
       "      <th>4</th>\n",
       "      <td>17610152</td>\n",
       "      <td>2014-08-28 17:47:00.000000188</td>\n",
       "      <td>16.0</td>\n",
       "      <td>2014-08-28 17:47:00 UTC</td>\n",
       "      <td>-73.925023</td>\n",
       "      <td>40.744085</td>\n",
       "      <td>-73.973082</td>\n",
       "      <td>40.761247</td>\n",
       "      <td>5</td>\n",
       "    </tr>\n",
       "  </tbody>\n",
       "</table>\n",
       "</div>"
      ],
      "text/plain": [
       "   Unnamed: 0                            key  fare_amount  \\\n",
       "0    24238194    2015-05-07 19:52:06.0000003          7.5   \n",
       "1    27835199    2009-07-17 20:04:56.0000002          7.7   \n",
       "2    44984355   2009-08-24 21:45:00.00000061         12.9   \n",
       "3    25894730    2009-06-26 08:22:21.0000001          5.3   \n",
       "4    17610152  2014-08-28 17:47:00.000000188         16.0   \n",
       "\n",
       "           pickup_datetime  pickup_longitude  pickup_latitude  \\\n",
       "0  2015-05-07 19:52:06 UTC        -73.999817        40.738354   \n",
       "1  2009-07-17 20:04:56 UTC        -73.994355        40.728225   \n",
       "2  2009-08-24 21:45:00 UTC        -74.005043        40.740770   \n",
       "3  2009-06-26 08:22:21 UTC        -73.976124        40.790844   \n",
       "4  2014-08-28 17:47:00 UTC        -73.925023        40.744085   \n",
       "\n",
       "   dropoff_longitude  dropoff_latitude  passenger_count  \n",
       "0         -73.999512         40.723217                1  \n",
       "1         -73.994710         40.750325                1  \n",
       "2         -73.962565         40.772647                1  \n",
       "3         -73.965316         40.803349                3  \n",
       "4         -73.973082         40.761247                5  "
      ]
     },
     "execution_count": 4,
     "metadata": {},
     "output_type": "execute_result"
    }
   ],
   "source": [
    "\n",
    "df.head()"
   ]
  },
  {
   "cell_type": "code",
   "execution_count": 5,
   "metadata": {
    "colab": {
     "base_uri": "https://localhost:8080/",
     "height": 300
    },
    "id": "ErreR3JyhfIN",
    "outputId": "bac7b701-92c8-443d-ce32-01956f576f40"
   },
   "outputs": [
    {
     "data": {
      "text/html": [
       "<div>\n",
       "<style scoped>\n",
       "    .dataframe tbody tr th:only-of-type {\n",
       "        vertical-align: middle;\n",
       "    }\n",
       "\n",
       "    .dataframe tbody tr th {\n",
       "        vertical-align: top;\n",
       "    }\n",
       "\n",
       "    .dataframe thead th {\n",
       "        text-align: right;\n",
       "    }\n",
       "</style>\n",
       "<table border=\"1\" class=\"dataframe\">\n",
       "  <thead>\n",
       "    <tr style=\"text-align: right;\">\n",
       "      <th></th>\n",
       "      <th>Unnamed: 0</th>\n",
       "      <th>fare_amount</th>\n",
       "      <th>pickup_longitude</th>\n",
       "      <th>pickup_latitude</th>\n",
       "      <th>dropoff_longitude</th>\n",
       "      <th>dropoff_latitude</th>\n",
       "      <th>passenger_count</th>\n",
       "    </tr>\n",
       "  </thead>\n",
       "  <tbody>\n",
       "    <tr>\n",
       "      <th>count</th>\n",
       "      <td>2.000000e+05</td>\n",
       "      <td>200000.000000</td>\n",
       "      <td>200000.000000</td>\n",
       "      <td>200000.000000</td>\n",
       "      <td>199999.000000</td>\n",
       "      <td>199999.000000</td>\n",
       "      <td>200000.000000</td>\n",
       "    </tr>\n",
       "    <tr>\n",
       "      <th>mean</th>\n",
       "      <td>2.771250e+07</td>\n",
       "      <td>11.359955</td>\n",
       "      <td>-72.527638</td>\n",
       "      <td>39.935885</td>\n",
       "      <td>-72.525292</td>\n",
       "      <td>39.923890</td>\n",
       "      <td>1.684535</td>\n",
       "    </tr>\n",
       "    <tr>\n",
       "      <th>std</th>\n",
       "      <td>1.601382e+07</td>\n",
       "      <td>9.901776</td>\n",
       "      <td>11.437787</td>\n",
       "      <td>7.720539</td>\n",
       "      <td>13.117408</td>\n",
       "      <td>6.794829</td>\n",
       "      <td>1.385997</td>\n",
       "    </tr>\n",
       "    <tr>\n",
       "      <th>min</th>\n",
       "      <td>1.000000e+00</td>\n",
       "      <td>-52.000000</td>\n",
       "      <td>-1340.648410</td>\n",
       "      <td>-74.015515</td>\n",
       "      <td>-3356.666300</td>\n",
       "      <td>-881.985513</td>\n",
       "      <td>0.000000</td>\n",
       "    </tr>\n",
       "    <tr>\n",
       "      <th>25%</th>\n",
       "      <td>1.382535e+07</td>\n",
       "      <td>6.000000</td>\n",
       "      <td>-73.992065</td>\n",
       "      <td>40.734796</td>\n",
       "      <td>-73.991407</td>\n",
       "      <td>40.733823</td>\n",
       "      <td>1.000000</td>\n",
       "    </tr>\n",
       "    <tr>\n",
       "      <th>50%</th>\n",
       "      <td>2.774550e+07</td>\n",
       "      <td>8.500000</td>\n",
       "      <td>-73.981823</td>\n",
       "      <td>40.752592</td>\n",
       "      <td>-73.980093</td>\n",
       "      <td>40.753042</td>\n",
       "      <td>1.000000</td>\n",
       "    </tr>\n",
       "    <tr>\n",
       "      <th>75%</th>\n",
       "      <td>4.155530e+07</td>\n",
       "      <td>12.500000</td>\n",
       "      <td>-73.967154</td>\n",
       "      <td>40.767158</td>\n",
       "      <td>-73.963658</td>\n",
       "      <td>40.768001</td>\n",
       "      <td>2.000000</td>\n",
       "    </tr>\n",
       "    <tr>\n",
       "      <th>max</th>\n",
       "      <td>5.542357e+07</td>\n",
       "      <td>499.000000</td>\n",
       "      <td>57.418457</td>\n",
       "      <td>1644.421482</td>\n",
       "      <td>1153.572603</td>\n",
       "      <td>872.697628</td>\n",
       "      <td>208.000000</td>\n",
       "    </tr>\n",
       "  </tbody>\n",
       "</table>\n",
       "</div>"
      ],
      "text/plain": [
       "         Unnamed: 0    fare_amount  pickup_longitude  pickup_latitude  \\\n",
       "count  2.000000e+05  200000.000000     200000.000000    200000.000000   \n",
       "mean   2.771250e+07      11.359955        -72.527638        39.935885   \n",
       "std    1.601382e+07       9.901776         11.437787         7.720539   \n",
       "min    1.000000e+00     -52.000000      -1340.648410       -74.015515   \n",
       "25%    1.382535e+07       6.000000        -73.992065        40.734796   \n",
       "50%    2.774550e+07       8.500000        -73.981823        40.752592   \n",
       "75%    4.155530e+07      12.500000        -73.967154        40.767158   \n",
       "max    5.542357e+07     499.000000         57.418457      1644.421482   \n",
       "\n",
       "       dropoff_longitude  dropoff_latitude  passenger_count  \n",
       "count      199999.000000     199999.000000    200000.000000  \n",
       "mean          -72.525292         39.923890         1.684535  \n",
       "std            13.117408          6.794829         1.385997  \n",
       "min         -3356.666300       -881.985513         0.000000  \n",
       "25%           -73.991407         40.733823         1.000000  \n",
       "50%           -73.980093         40.753042         1.000000  \n",
       "75%           -73.963658         40.768001         2.000000  \n",
       "max          1153.572603        872.697628       208.000000  "
      ]
     },
     "execution_count": 5,
     "metadata": {},
     "output_type": "execute_result"
    }
   ],
   "source": [
    "\n",
    "df.describe()"
   ]
  },
  {
   "cell_type": "code",
   "execution_count": 6,
   "metadata": {
    "id": "FCDse7Mshj1M"
   },
   "outputs": [],
   "source": [
    "df = df.drop(['Unnamed: 0', 'key'], axis=1)"
   ]
  },
  {
   "cell_type": "code",
   "execution_count": 7,
   "metadata": {
    "colab": {
     "base_uri": "https://localhost:8080/"
    },
    "id": "PzG4MvZ1hnie",
    "outputId": "d860ea27-e1d6-4b88-dbc1-10c43e2b1149"
   },
   "outputs": [
    {
     "data": {
      "text/plain": [
       "fare_amount          0\n",
       "pickup_datetime      0\n",
       "pickup_longitude     0\n",
       "pickup_latitude      0\n",
       "dropoff_longitude    1\n",
       "dropoff_latitude     1\n",
       "passenger_count      0\n",
       "dtype: int64"
      ]
     },
     "execution_count": 7,
     "metadata": {},
     "output_type": "execute_result"
    }
   ],
   "source": [
    "df.isna().sum()"
   ]
  },
  {
   "cell_type": "code",
   "execution_count": 8,
   "metadata": {
    "id": "6imbgZeQhq9_"
   },
   "outputs": [],
   "source": [
    "\n",
    "df.dropna(axis=0,inplace=True)"
   ]
  },
  {
   "cell_type": "code",
   "execution_count": 9,
   "metadata": {
    "colab": {
     "base_uri": "https://localhost:8080/"
    },
    "id": "SBQ4m2eShu8D",
    "outputId": "72874c27-0a99-4689-a298-d140062f4a74"
   },
   "outputs": [
    {
     "data": {
      "text/plain": [
       "fare_amount          float64\n",
       "pickup_datetime       object\n",
       "pickup_longitude     float64\n",
       "pickup_latitude      float64\n",
       "dropoff_longitude    float64\n",
       "dropoff_latitude     float64\n",
       "passenger_count        int64\n",
       "dtype: object"
      ]
     },
     "execution_count": 9,
     "metadata": {},
     "output_type": "execute_result"
    }
   ],
   "source": [
    "\n",
    "df.dtypes"
   ]
  },
  {
   "cell_type": "code",
   "execution_count": 10,
   "metadata": {
    "id": "bpHZ68c_h1vs"
   },
   "outputs": [],
   "source": [
    "df.pickup_datetime = pd.to_datetime(df.pickup_datetime, errors='coerce')"
   ]
  },
  {
   "cell_type": "code",
   "execution_count": 11,
   "metadata": {
    "id": "HnFyzhm9h7ZI"
   },
   "outputs": [],
   "source": [
    "df= df.assign(\n",
    "second = df.pickup_datetime.dt.second,\n",
    "minute = df.pickup_datetime.dt.minute,\n",
    "hour = df.pickup_datetime.dt.hour,\n",
    "day= df.pickup_datetime.dt.day,\n",
    "month = df.pickup_datetime.dt.month,\n",
    "year = df.pickup_datetime.dt.year,\n",
    "dayofweek = df.pickup_datetime.dt.dayofweek\n",
    ")\n",
    "df = df.drop('pickup_datetime',axis=1)"
   ]
  },
  {
   "cell_type": "code",
   "execution_count": 12,
   "metadata": {
    "colab": {
     "base_uri": "https://localhost:8080/"
    },
    "id": "541asb3FiBmq",
    "outputId": "4ff2539b-e9c8-4573-b7bd-09ce1a5926ee"
   },
   "outputs": [
    {
     "name": "stdout",
     "output_type": "stream",
     "text": [
      "<class 'pandas.core.frame.DataFrame'>\n",
      "Int64Index: 199999 entries, 0 to 199999\n",
      "Data columns (total 13 columns):\n",
      " #   Column             Non-Null Count   Dtype  \n",
      "---  ------             --------------   -----  \n",
      " 0   fare_amount        199999 non-null  float64\n",
      " 1   pickup_longitude   199999 non-null  float64\n",
      " 2   pickup_latitude    199999 non-null  float64\n",
      " 3   dropoff_longitude  199999 non-null  float64\n",
      " 4   dropoff_latitude   199999 non-null  float64\n",
      " 5   passenger_count    199999 non-null  int64  \n",
      " 6   second             199999 non-null  int64  \n",
      " 7   minute             199999 non-null  int64  \n",
      " 8   hour               199999 non-null  int64  \n",
      " 9   day                199999 non-null  int64  \n",
      " 10  month              199999 non-null  int64  \n",
      " 11  year               199999 non-null  int64  \n",
      " 12  dayofweek          199999 non-null  int64  \n",
      "dtypes: float64(5), int64(8)\n",
      "memory usage: 21.4 MB\n"
     ]
    }
   ],
   "source": [
    "df.info()"
   ]
  },
  {
   "cell_type": "code",
   "execution_count": 13,
   "metadata": {
    "colab": {
     "base_uri": "https://localhost:8080/",
     "height": 270
    },
    "id": "ITcluZT4iFK4",
    "outputId": "9fbd63d7-2e4f-4f34-d701-5b69f346036a"
   },
   "outputs": [
    {
     "data": {
      "text/html": [
       "<div>\n",
       "<style scoped>\n",
       "    .dataframe tbody tr th:only-of-type {\n",
       "        vertical-align: middle;\n",
       "    }\n",
       "\n",
       "    .dataframe tbody tr th {\n",
       "        vertical-align: top;\n",
       "    }\n",
       "\n",
       "    .dataframe thead th {\n",
       "        text-align: right;\n",
       "    }\n",
       "</style>\n",
       "<table border=\"1\" class=\"dataframe\">\n",
       "  <thead>\n",
       "    <tr style=\"text-align: right;\">\n",
       "      <th></th>\n",
       "      <th>fare_amount</th>\n",
       "      <th>pickup_longitude</th>\n",
       "      <th>pickup_latitude</th>\n",
       "      <th>dropoff_longitude</th>\n",
       "      <th>dropoff_latitude</th>\n",
       "      <th>passenger_count</th>\n",
       "      <th>second</th>\n",
       "      <th>minute</th>\n",
       "      <th>hour</th>\n",
       "      <th>day</th>\n",
       "      <th>month</th>\n",
       "      <th>year</th>\n",
       "      <th>dayofweek</th>\n",
       "    </tr>\n",
       "  </thead>\n",
       "  <tbody>\n",
       "    <tr>\n",
       "      <th>0</th>\n",
       "      <td>7.5</td>\n",
       "      <td>-73.999817</td>\n",
       "      <td>40.738354</td>\n",
       "      <td>-73.999512</td>\n",
       "      <td>40.723217</td>\n",
       "      <td>1</td>\n",
       "      <td>6</td>\n",
       "      <td>52</td>\n",
       "      <td>19</td>\n",
       "      <td>7</td>\n",
       "      <td>5</td>\n",
       "      <td>2015</td>\n",
       "      <td>3</td>\n",
       "    </tr>\n",
       "    <tr>\n",
       "      <th>1</th>\n",
       "      <td>7.7</td>\n",
       "      <td>-73.994355</td>\n",
       "      <td>40.728225</td>\n",
       "      <td>-73.994710</td>\n",
       "      <td>40.750325</td>\n",
       "      <td>1</td>\n",
       "      <td>56</td>\n",
       "      <td>4</td>\n",
       "      <td>20</td>\n",
       "      <td>17</td>\n",
       "      <td>7</td>\n",
       "      <td>2009</td>\n",
       "      <td>4</td>\n",
       "    </tr>\n",
       "    <tr>\n",
       "      <th>2</th>\n",
       "      <td>12.9</td>\n",
       "      <td>-74.005043</td>\n",
       "      <td>40.740770</td>\n",
       "      <td>-73.962565</td>\n",
       "      <td>40.772647</td>\n",
       "      <td>1</td>\n",
       "      <td>0</td>\n",
       "      <td>45</td>\n",
       "      <td>21</td>\n",
       "      <td>24</td>\n",
       "      <td>8</td>\n",
       "      <td>2009</td>\n",
       "      <td>0</td>\n",
       "    </tr>\n",
       "    <tr>\n",
       "      <th>3</th>\n",
       "      <td>5.3</td>\n",
       "      <td>-73.976124</td>\n",
       "      <td>40.790844</td>\n",
       "      <td>-73.965316</td>\n",
       "      <td>40.803349</td>\n",
       "      <td>3</td>\n",
       "      <td>21</td>\n",
       "      <td>22</td>\n",
       "      <td>8</td>\n",
       "      <td>26</td>\n",
       "      <td>6</td>\n",
       "      <td>2009</td>\n",
       "      <td>4</td>\n",
       "    </tr>\n",
       "    <tr>\n",
       "      <th>4</th>\n",
       "      <td>16.0</td>\n",
       "      <td>-73.925023</td>\n",
       "      <td>40.744085</td>\n",
       "      <td>-73.973082</td>\n",
       "      <td>40.761247</td>\n",
       "      <td>5</td>\n",
       "      <td>0</td>\n",
       "      <td>47</td>\n",
       "      <td>17</td>\n",
       "      <td>28</td>\n",
       "      <td>8</td>\n",
       "      <td>2014</td>\n",
       "      <td>3</td>\n",
       "    </tr>\n",
       "  </tbody>\n",
       "</table>\n",
       "</div>"
      ],
      "text/plain": [
       "   fare_amount  pickup_longitude  pickup_latitude  dropoff_longitude  \\\n",
       "0          7.5        -73.999817        40.738354         -73.999512   \n",
       "1          7.7        -73.994355        40.728225         -73.994710   \n",
       "2         12.9        -74.005043        40.740770         -73.962565   \n",
       "3          5.3        -73.976124        40.790844         -73.965316   \n",
       "4         16.0        -73.925023        40.744085         -73.973082   \n",
       "\n",
       "   dropoff_latitude  passenger_count  second  minute  hour  day  month  year  \\\n",
       "0         40.723217                1       6      52    19    7      5  2015   \n",
       "1         40.750325                1      56       4    20   17      7  2009   \n",
       "2         40.772647                1       0      45    21   24      8  2009   \n",
       "3         40.803349                3      21      22     8   26      6  2009   \n",
       "4         40.761247                5       0      47    17   28      8  2014   \n",
       "\n",
       "   dayofweek  \n",
       "0          3  \n",
       "1          4  \n",
       "2          0  \n",
       "3          4  \n",
       "4          3  "
      ]
     },
     "execution_count": 13,
     "metadata": {},
     "output_type": "execute_result"
    }
   ],
   "source": [
    "df.head()"
   ]
  },
  {
   "cell_type": "code",
   "execution_count": 14,
   "metadata": {
    "id": "4DGGXG_oiIkr"
   },
   "outputs": [],
   "source": [
    "incorrect_coordinates = df.loc[\n",
    "(df.pickup_latitude > 90) |(df.pickup_latitude < -90) |\n",
    "(df.dropoff_latitude > 90) |(df.dropoff_latitude < -90) |\n",
    "(df.pickup_longitude > 180) |(df.pickup_longitude < -180) |\n",
    "(df.dropoff_longitude > 90) |(df.dropoff_longitude < -90)\n",
    "]\n",
    "df.drop(incorrect_coordinates, inplace = True, errors = 'ignore')"
   ]
  },
  {
   "cell_type": "code",
   "execution_count": 15,
   "metadata": {
    "id": "YVPtRs_HiL1D"
   },
   "outputs": [],
   "source": [
    "def distance_transform(longitude1, latitude1, longitude2, latitude2):\n",
    "\n",
    "  long1, lati1, long2, lati2 = map(np.radians, [longitude1, latitude1, longitude2, latitude2])\n",
    "  dist_long = long2 - long1\n",
    "  dist_lati = lati2 - lati1\n",
    "  a = np.sin(dist_lati/2)**2 + np.cos(lati1) * np.cos(lati2) * np.sin(dist_long/2)**2\n",
    "  c = 2 * np.arcsin(np.sqrt(a)) * 6371\n",
    "\n",
    "  # long1,lati1,long2,lati2 = longitude1[pos],latitude1[pos],longitude2[pos],latitude2[pos]\n",
    "  # c = sqrt((long2 - long1) ** 2 + (lati2 - lati1) ** 2)asin\n",
    "\n",
    "  return c"
   ]
  },
  {
   "cell_type": "code",
   "execution_count": 16,
   "metadata": {
    "id": "5BY-JKDgibHP"
   },
   "outputs": [],
   "source": [
    "df['Distance'] = distance_transform(\n",
    "df['pickup_longitude'],\n",
    "df['pickup_latitude'],\n",
    "df['dropoff_longitude'],\n",
    "df['dropoff_latitude']\n",
    ")"
   ]
  },
  {
   "cell_type": "code",
   "execution_count": 17,
   "metadata": {
    "colab": {
     "base_uri": "https://localhost:8080/",
     "height": 270
    },
    "id": "6kQSq3RLieXb",
    "outputId": "880210c7-8e97-4dad-fc2b-5420a211f53d"
   },
   "outputs": [
    {
     "data": {
      "text/html": [
       "<div>\n",
       "<style scoped>\n",
       "    .dataframe tbody tr th:only-of-type {\n",
       "        vertical-align: middle;\n",
       "    }\n",
       "\n",
       "    .dataframe tbody tr th {\n",
       "        vertical-align: top;\n",
       "    }\n",
       "\n",
       "    .dataframe thead th {\n",
       "        text-align: right;\n",
       "    }\n",
       "</style>\n",
       "<table border=\"1\" class=\"dataframe\">\n",
       "  <thead>\n",
       "    <tr style=\"text-align: right;\">\n",
       "      <th></th>\n",
       "      <th>fare_amount</th>\n",
       "      <th>pickup_longitude</th>\n",
       "      <th>pickup_latitude</th>\n",
       "      <th>dropoff_longitude</th>\n",
       "      <th>dropoff_latitude</th>\n",
       "      <th>passenger_count</th>\n",
       "      <th>second</th>\n",
       "      <th>minute</th>\n",
       "      <th>hour</th>\n",
       "      <th>day</th>\n",
       "      <th>month</th>\n",
       "      <th>year</th>\n",
       "      <th>dayofweek</th>\n",
       "      <th>Distance</th>\n",
       "    </tr>\n",
       "  </thead>\n",
       "  <tbody>\n",
       "    <tr>\n",
       "      <th>0</th>\n",
       "      <td>7.5</td>\n",
       "      <td>-73.999817</td>\n",
       "      <td>40.738354</td>\n",
       "      <td>-73.999512</td>\n",
       "      <td>40.723217</td>\n",
       "      <td>1</td>\n",
       "      <td>6</td>\n",
       "      <td>52</td>\n",
       "      <td>19</td>\n",
       "      <td>7</td>\n",
       "      <td>5</td>\n",
       "      <td>2015</td>\n",
       "      <td>3</td>\n",
       "      <td>1.683323</td>\n",
       "    </tr>\n",
       "    <tr>\n",
       "      <th>1</th>\n",
       "      <td>7.7</td>\n",
       "      <td>-73.994355</td>\n",
       "      <td>40.728225</td>\n",
       "      <td>-73.994710</td>\n",
       "      <td>40.750325</td>\n",
       "      <td>1</td>\n",
       "      <td>56</td>\n",
       "      <td>4</td>\n",
       "      <td>20</td>\n",
       "      <td>17</td>\n",
       "      <td>7</td>\n",
       "      <td>2009</td>\n",
       "      <td>4</td>\n",
       "      <td>2.457590</td>\n",
       "    </tr>\n",
       "    <tr>\n",
       "      <th>2</th>\n",
       "      <td>12.9</td>\n",
       "      <td>-74.005043</td>\n",
       "      <td>40.740770</td>\n",
       "      <td>-73.962565</td>\n",
       "      <td>40.772647</td>\n",
       "      <td>1</td>\n",
       "      <td>0</td>\n",
       "      <td>45</td>\n",
       "      <td>21</td>\n",
       "      <td>24</td>\n",
       "      <td>8</td>\n",
       "      <td>2009</td>\n",
       "      <td>0</td>\n",
       "      <td>5.036377</td>\n",
       "    </tr>\n",
       "    <tr>\n",
       "      <th>3</th>\n",
       "      <td>5.3</td>\n",
       "      <td>-73.976124</td>\n",
       "      <td>40.790844</td>\n",
       "      <td>-73.965316</td>\n",
       "      <td>40.803349</td>\n",
       "      <td>3</td>\n",
       "      <td>21</td>\n",
       "      <td>22</td>\n",
       "      <td>8</td>\n",
       "      <td>26</td>\n",
       "      <td>6</td>\n",
       "      <td>2009</td>\n",
       "      <td>4</td>\n",
       "      <td>1.661683</td>\n",
       "    </tr>\n",
       "    <tr>\n",
       "      <th>4</th>\n",
       "      <td>16.0</td>\n",
       "      <td>-73.925023</td>\n",
       "      <td>40.744085</td>\n",
       "      <td>-73.973082</td>\n",
       "      <td>40.761247</td>\n",
       "      <td>5</td>\n",
       "      <td>0</td>\n",
       "      <td>47</td>\n",
       "      <td>17</td>\n",
       "      <td>28</td>\n",
       "      <td>8</td>\n",
       "      <td>2014</td>\n",
       "      <td>3</td>\n",
       "      <td>4.475450</td>\n",
       "    </tr>\n",
       "  </tbody>\n",
       "</table>\n",
       "</div>"
      ],
      "text/plain": [
       "   fare_amount  pickup_longitude  pickup_latitude  dropoff_longitude  \\\n",
       "0          7.5        -73.999817        40.738354         -73.999512   \n",
       "1          7.7        -73.994355        40.728225         -73.994710   \n",
       "2         12.9        -74.005043        40.740770         -73.962565   \n",
       "3          5.3        -73.976124        40.790844         -73.965316   \n",
       "4         16.0        -73.925023        40.744085         -73.973082   \n",
       "\n",
       "   dropoff_latitude  passenger_count  second  minute  hour  day  month  year  \\\n",
       "0         40.723217                1       6      52    19    7      5  2015   \n",
       "1         40.750325                1      56       4    20   17      7  2009   \n",
       "2         40.772647                1       0      45    21   24      8  2009   \n",
       "3         40.803349                3      21      22     8   26      6  2009   \n",
       "4         40.761247                5       0      47    17   28      8  2014   \n",
       "\n",
       "   dayofweek  Distance  \n",
       "0          3  1.683323  \n",
       "1          4  2.457590  \n",
       "2          0  5.036377  \n",
       "3          4  1.661683  \n",
       "4          3  4.475450  "
      ]
     },
     "execution_count": 17,
     "metadata": {},
     "output_type": "execute_result"
    }
   ],
   "source": [
    "\n",
    "df.head()"
   ]
  },
  {
   "cell_type": "code",
   "execution_count": 18,
   "metadata": {
    "colab": {
     "base_uri": "https://localhost:8080/",
     "height": 296
    },
    "id": "oICs2IvvieTr",
    "outputId": "ddb6feff-d5d9-4a10-fa36-b197c7ae12b4"
   },
   "outputs": [
    {
     "data": {
      "text/plain": [
       "Text(0, 0.5, 'fare_amount')"
      ]
     },
     "execution_count": 18,
     "metadata": {},
     "output_type": "execute_result"
    },
    {
     "data": {
      "image/png": "[encoded data removed]",
      "text/plain": [
       "<Figure size 432x288 with 1 Axes>"
      ]
     },
     "metadata": {
      "needs_background": "light"
     },
     "output_type": "display_data"
    }
   ],
   "source": [
    "plt.scatter(df['Distance'], df['fare_amount'])\n",
    "plt.xlabel(\"Distance\")\n",
    "plt.ylabel(\"fare_amount\")"
   ]
  },
  {
   "cell_type": "code",
   "execution_count": 19,
   "metadata": {
    "colab": {
     "base_uri": "https://localhost:8080/",
     "height": 716
    },
    "id": "p369OlMpijJg",
    "outputId": "3b61ece6-e6e5-4c30-a279-2e1b2abb05f8"
   },
   "outputs": [
    {
     "data": {
      "text/plain": [
       "<AxesSubplot:>"
      ]
     },
     "execution_count": 19,
     "metadata": {},
     "output_type": "execute_result"
    },
    {
     "data": {
      "image/png": "[encoded data removed]",
      "text/plain": [
       "<Figure size 1440x864 with 1 Axes>"
      ]
     },
     "metadata": {
      "needs_background": "light"
     },
     "output_type": "display_data"
    }
   ],
   "source": [
    "plt.figure(figsize=(20,12))\n",
    "sns.boxplot(data = df)"
   ]
  },
  {
   "cell_type": "code",
   "execution_count": 20,
   "metadata": {
    "id": "xUuFVB0sidzK"
   },
   "outputs": [],
   "source": [
    "df.drop(df[df['Distance']>=60].index, inplace = True)\n",
    "df.drop(df[df['fare_amount']<=0].index, inplace = True)\n",
    "df.drop(df[(df['fare_amount']>100) & (df['Distance']<1)].index, inplace = True )\n",
    "df.drop(df[(df['fare_amount']<100) & (df['Distance']>100)].index, inplace = True )\n"
   ]
  },
  {
   "cell_type": "code",
   "execution_count": 21,
   "metadata": {
    "colab": {
     "base_uri": "https://localhost:8080/",
     "height": 296
    },
    "id": "AnYPqLpRjSLN",
    "outputId": "54f58d52-565d-4911-af4c-e3aa3f8be960"
   },
   "outputs": [
    {
     "data": {
      "text/plain": [
       "Text(0, 0.5, 'fare_amount')"
      ]
     },
     "execution_count": 21,
     "metadata": {},
     "output_type": "execute_result"
    },
    {
     "data": {
      "image/png": "[encoded data removed]",
      "text/plain": [
       "<Figure size 432x288 with 1 Axes>"
      ]
     },
     "metadata": {
      "needs_background": "light"
     },
     "output_type": "display_data"
    }
   ],
   "source": [
    "plt.scatter(df['Distance'], df['fare_amount'])\n",
    "plt.xlabel(\"Distance\")\n",
    "plt.ylabel(\"fare_amount\")"
   ]
  },
  {
   "cell_type": "code",
   "execution_count": 22,
   "metadata": {
    "colab": {
     "base_uri": "https://localhost:8080/",
     "height": 508
    },
    "id": "4x4LEJOJjVnF",
    "outputId": "c6d149e5-bc12-4824-c132-9c8e647169d3"
   },
   "outputs": [
    {
     "data": {
      "text/html": [
       "<style  type=\"text/css\" >\n",
       "#T_ab15fe10_6a76_11ed_a7dc_085bd6db0ce4row0_col0,#T_ab15fe10_6a76_11ed_a7dc_085bd6db0ce4row1_col1,#T_ab15fe10_6a76_11ed_a7dc_085bd6db0ce4row1_col3,#T_ab15fe10_6a76_11ed_a7dc_085bd6db0ce4row2_col2,#T_ab15fe10_6a76_11ed_a7dc_085bd6db0ce4row3_col1,#T_ab15fe10_6a76_11ed_a7dc_085bd6db0ce4row3_col3,#T_ab15fe10_6a76_11ed_a7dc_085bd6db0ce4row4_col4,#T_ab15fe10_6a76_11ed_a7dc_085bd6db0ce4row5_col5,#T_ab15fe10_6a76_11ed_a7dc_085bd6db0ce4row6_col6,#T_ab15fe10_6a76_11ed_a7dc_085bd6db0ce4row7_col7,#T_ab15fe10_6a76_11ed_a7dc_085bd6db0ce4row8_col8,#T_ab15fe10_6a76_11ed_a7dc_085bd6db0ce4row9_col9,#T_ab15fe10_6a76_11ed_a7dc_085bd6db0ce4row10_col10,#T_ab15fe10_6a76_11ed_a7dc_085bd6db0ce4row11_col11,#T_ab15fe10_6a76_11ed_a7dc_085bd6db0ce4row12_col12,#T_ab15fe10_6a76_11ed_a7dc_085bd6db0ce4row13_col13{\n",
       "            background-color:  #00441b;\n",
       "            color:  #f1f1f1;\n",
       "        }#T_ab15fe10_6a76_11ed_a7dc_085bd6db0ce4row0_col1,#T_ab15fe10_6a76_11ed_a7dc_085bd6db0ce4row0_col3,#T_ab15fe10_6a76_11ed_a7dc_085bd6db0ce4row7_col1,#T_ab15fe10_6a76_11ed_a7dc_085bd6db0ce4row7_col3,#T_ab15fe10_6a76_11ed_a7dc_085bd6db0ce4row8_col1,#T_ab15fe10_6a76_11ed_a7dc_085bd6db0ce4row8_col3,#T_ab15fe10_6a76_11ed_a7dc_085bd6db0ce4row9_col1,#T_ab15fe10_6a76_11ed_a7dc_085bd6db0ce4row9_col3,#T_ab15fe10_6a76_11ed_a7dc_085bd6db0ce4row10_col4,#T_ab15fe10_6a76_11ed_a7dc_085bd6db0ce4row11_col1,#T_ab15fe10_6a76_11ed_a7dc_085bd6db0ce4row11_col3,#T_ab15fe10_6a76_11ed_a7dc_085bd6db0ce4row12_col1,#T_ab15fe10_6a76_11ed_a7dc_085bd6db0ce4row12_col3{\n",
       "            background-color:  #67c2a5;\n",
       "            color:  #000000;\n",
       "        }#T_ab15fe10_6a76_11ed_a7dc_085bd6db0ce4row0_col2,#T_ab15fe10_6a76_11ed_a7dc_085bd6db0ce4row7_col2,#T_ab15fe10_6a76_11ed_a7dc_085bd6db0ce4row9_col2,#T_ab15fe10_6a76_11ed_a7dc_085bd6db0ce4row9_col4,#T_ab15fe10_6a76_11ed_a7dc_085bd6db0ce4row11_col2,#T_ab15fe10_6a76_11ed_a7dc_085bd6db0ce4row11_col4,#T_ab15fe10_6a76_11ed_a7dc_085bd6db0ce4row12_col2{\n",
       "            background-color:  #6ac4a7;\n",
       "            color:  #000000;\n",
       "        }#T_ab15fe10_6a76_11ed_a7dc_085bd6db0ce4row0_col4,#T_ab15fe10_6a76_11ed_a7dc_085bd6db0ce4row5_col1,#T_ab15fe10_6a76_11ed_a7dc_085bd6db0ce4row5_col2,#T_ab15fe10_6a76_11ed_a7dc_085bd6db0ce4row5_col3,#T_ab15fe10_6a76_11ed_a7dc_085bd6db0ce4row5_col4,#T_ab15fe10_6a76_11ed_a7dc_085bd6db0ce4row7_col4,#T_ab15fe10_6a76_11ed_a7dc_085bd6db0ce4row8_col2,#T_ab15fe10_6a76_11ed_a7dc_085bd6db0ce4row8_col4,#T_ab15fe10_6a76_11ed_a7dc_085bd6db0ce4row10_col1,#T_ab15fe10_6a76_11ed_a7dc_085bd6db0ce4row10_col2,#T_ab15fe10_6a76_11ed_a7dc_085bd6db0ce4row10_col3,#T_ab15fe10_6a76_11ed_a7dc_085bd6db0ce4row12_col4{\n",
       "            background-color:  #68c3a6;\n",
       "            color:  #000000;\n",
       "        }#T_ab15fe10_6a76_11ed_a7dc_085bd6db0ce4row0_col5,#T_ab15fe10_6a76_11ed_a7dc_085bd6db0ce4row6_col11,#T_ab15fe10_6a76_11ed_a7dc_085bd6db0ce4row10_col5{\n",
       "            background-color:  #dbf1f1;\n",
       "            color:  #000000;\n",
       "        }#T_ab15fe10_6a76_11ed_a7dc_085bd6db0ce4row0_col6,#T_ab15fe10_6a76_11ed_a7dc_085bd6db0ce4row2_col5,#T_ab15fe10_6a76_11ed_a7dc_085bd6db0ce4row4_col5,#T_ab15fe10_6a76_11ed_a7dc_085bd6db0ce4row9_col6{\n",
       "            background-color:  #ddf2f3;\n",
       "            color:  #000000;\n",
       "        }#T_ab15fe10_6a76_11ed_a7dc_085bd6db0ce4row0_col7,#T_ab15fe10_6a76_11ed_a7dc_085bd6db0ce4row1_col2,#T_ab15fe10_6a76_11ed_a7dc_085bd6db0ce4row1_col4,#T_ab15fe10_6a76_11ed_a7dc_085bd6db0ce4row1_col13,#T_ab15fe10_6a76_11ed_a7dc_085bd6db0ce4row3_col2,#T_ab15fe10_6a76_11ed_a7dc_085bd6db0ce4row3_col4,#T_ab15fe10_6a76_11ed_a7dc_085bd6db0ce4row3_col13,#T_ab15fe10_6a76_11ed_a7dc_085bd6db0ce4row4_col1,#T_ab15fe10_6a76_11ed_a7dc_085bd6db0ce4row4_col3,#T_ab15fe10_6a76_11ed_a7dc_085bd6db0ce4row5_col6,#T_ab15fe10_6a76_11ed_a7dc_085bd6db0ce4row6_col5,#T_ab15fe10_6a76_11ed_a7dc_085bd6db0ce4row8_col0,#T_ab15fe10_6a76_11ed_a7dc_085bd6db0ce4row8_col12,#T_ab15fe10_6a76_11ed_a7dc_085bd6db0ce4row10_col9,#T_ab15fe10_6a76_11ed_a7dc_085bd6db0ce4row10_col11,#T_ab15fe10_6a76_11ed_a7dc_085bd6db0ce4row11_col10,#T_ab15fe10_6a76_11ed_a7dc_085bd6db0ce4row12_col8,#T_ab15fe10_6a76_11ed_a7dc_085bd6db0ce4row13_col7{\n",
       "            background-color:  #f7fcfd;\n",
       "            color:  #000000;\n",
       "        }#T_ab15fe10_6a76_11ed_a7dc_085bd6db0ce4row0_col8,#T_ab15fe10_6a76_11ed_a7dc_085bd6db0ce4row6_col10{\n",
       "            background-color:  #eff9fb;\n",
       "            color:  #000000;\n",
       "        }#T_ab15fe10_6a76_11ed_a7dc_085bd6db0ce4row0_col9,#T_ab15fe10_6a76_11ed_a7dc_085bd6db0ce4row6_col0,#T_ab15fe10_6a76_11ed_a7dc_085bd6db0ce4row7_col9,#T_ab15fe10_6a76_11ed_a7dc_085bd6db0ce4row13_col9{\n",
       "            background-color:  #f5fbfc;\n",
       "            color:  #000000;\n",
       "        }#T_ab15fe10_6a76_11ed_a7dc_085bd6db0ce4row0_col10,#T_ab15fe10_6a76_11ed_a7dc_085bd6db0ce4row10_col6{\n",
       "            background-color:  #e5f5f9;\n",
       "            color:  #000000;\n",
       "        }#T_ab15fe10_6a76_11ed_a7dc_085bd6db0ce4row0_col11{\n",
       "            background-color:  #d4efec;\n",
       "            color:  #000000;\n",
       "        }#T_ab15fe10_6a76_11ed_a7dc_085bd6db0ce4row0_col12,#T_ab15fe10_6a76_11ed_a7dc_085bd6db0ce4row1_col12,#T_ab15fe10_6a76_11ed_a7dc_085bd6db0ce4row3_col12,#T_ab15fe10_6a76_11ed_a7dc_085bd6db0ce4row9_col8,#T_ab15fe10_6a76_11ed_a7dc_085bd6db0ce4row9_col10,#T_ab15fe10_6a76_11ed_a7dc_085bd6db0ce4row9_col12,#T_ab15fe10_6a76_11ed_a7dc_085bd6db0ce4row11_col12{\n",
       "            background-color:  #ebf7fa;\n",
       "            color:  #000000;\n",
       "        }#T_ab15fe10_6a76_11ed_a7dc_085bd6db0ce4row0_col13{\n",
       "            background-color:  #006d2c;\n",
       "            color:  #f1f1f1;\n",
       "        }#T_ab15fe10_6a76_11ed_a7dc_085bd6db0ce4row1_col0,#T_ab15fe10_6a76_11ed_a7dc_085bd6db0ce4row1_col9,#T_ab15fe10_6a76_11ed_a7dc_085bd6db0ce4row3_col0,#T_ab15fe10_6a76_11ed_a7dc_085bd6db0ce4row3_col9,#T_ab15fe10_6a76_11ed_a7dc_085bd6db0ce4row5_col9,#T_ab15fe10_6a76_11ed_a7dc_085bd6db0ce4row8_col9,#T_ab15fe10_6a76_11ed_a7dc_085bd6db0ce4row9_col0,#T_ab15fe10_6a76_11ed_a7dc_085bd6db0ce4row12_col0,#T_ab15fe10_6a76_11ed_a7dc_085bd6db0ce4row12_col9{\n",
       "            background-color:  #f4fbfc;\n",
       "            color:  #000000;\n",
       "        }#T_ab15fe10_6a76_11ed_a7dc_085bd6db0ce4row1_col5,#T_ab15fe10_6a76_11ed_a7dc_085bd6db0ce4row3_col5,#T_ab15fe10_6a76_11ed_a7dc_085bd6db0ce4row7_col5,#T_ab15fe10_6a76_11ed_a7dc_085bd6db0ce4row7_col6,#T_ab15fe10_6a76_11ed_a7dc_085bd6db0ce4row9_col5,#T_ab15fe10_6a76_11ed_a7dc_085bd6db0ce4row12_col6,#T_ab15fe10_6a76_11ed_a7dc_085bd6db0ce4row13_col6{\n",
       "            background-color:  #dcf2f2;\n",
       "            color:  #000000;\n",
       "        }#T_ab15fe10_6a76_11ed_a7dc_085bd6db0ce4row1_col6,#T_ab15fe10_6a76_11ed_a7dc_085bd6db0ce4row3_col6,#T_ab15fe10_6a76_11ed_a7dc_085bd6db0ce4row8_col6{\n",
       "            background-color:  #dff3f4;\n",
       "            color:  #000000;\n",
       "        }#T_ab15fe10_6a76_11ed_a7dc_085bd6db0ce4row1_col7,#T_ab15fe10_6a76_11ed_a7dc_085bd6db0ce4row2_col1,#T_ab15fe10_6a76_11ed_a7dc_085bd6db0ce4row2_col3,#T_ab15fe10_6a76_11ed_a7dc_085bd6db0ce4row2_col7,#T_ab15fe10_6a76_11ed_a7dc_085bd6db0ce4row2_col9,#T_ab15fe10_6a76_11ed_a7dc_085bd6db0ce4row3_col7,#T_ab15fe10_6a76_11ed_a7dc_085bd6db0ce4row4_col7,#T_ab15fe10_6a76_11ed_a7dc_085bd6db0ce4row4_col9,#T_ab15fe10_6a76_11ed_a7dc_085bd6db0ce4row5_col7,#T_ab15fe10_6a76_11ed_a7dc_085bd6db0ce4row6_col7,#T_ab15fe10_6a76_11ed_a7dc_085bd6db0ce4row8_col7,#T_ab15fe10_6a76_11ed_a7dc_085bd6db0ce4row9_col7,#T_ab15fe10_6a76_11ed_a7dc_085bd6db0ce4row10_col7,#T_ab15fe10_6a76_11ed_a7dc_085bd6db0ce4row11_col7,#T_ab15fe10_6a76_11ed_a7dc_085bd6db0ce4row11_col9,#T_ab15fe10_6a76_11ed_a7dc_085bd6db0ce4row12_col7{\n",
       "            background-color:  #f6fcfd;\n",
       "            color:  #000000;\n",
       "        }#T_ab15fe10_6a76_11ed_a7dc_085bd6db0ce4row1_col8,#T_ab15fe10_6a76_11ed_a7dc_085bd6db0ce4row2_col8,#T_ab15fe10_6a76_11ed_a7dc_085bd6db0ce4row3_col8,#T_ab15fe10_6a76_11ed_a7dc_085bd6db0ce4row4_col8,#T_ab15fe10_6a76_11ed_a7dc_085bd6db0ce4row6_col12,#T_ab15fe10_6a76_11ed_a7dc_085bd6db0ce4row7_col8,#T_ab15fe10_6a76_11ed_a7dc_085bd6db0ce4row11_col8{\n",
       "            background-color:  #ecf8fa;\n",
       "            color:  #000000;\n",
       "        }#T_ab15fe10_6a76_11ed_a7dc_085bd6db0ce4row1_col10,#T_ab15fe10_6a76_11ed_a7dc_085bd6db0ce4row2_col11,#T_ab15fe10_6a76_11ed_a7dc_085bd6db0ce4row3_col10,#T_ab15fe10_6a76_11ed_a7dc_085bd6db0ce4row4_col11,#T_ab15fe10_6a76_11ed_a7dc_085bd6db0ce4row7_col11,#T_ab15fe10_6a76_11ed_a7dc_085bd6db0ce4row7_col13,#T_ab15fe10_6a76_11ed_a7dc_085bd6db0ce4row8_col10,#T_ab15fe10_6a76_11ed_a7dc_085bd6db0ce4row12_col10,#T_ab15fe10_6a76_11ed_a7dc_085bd6db0ce4row13_col12{\n",
       "            background-color:  #e9f7fa;\n",
       "            color:  #000000;\n",
       "        }#T_ab15fe10_6a76_11ed_a7dc_085bd6db0ce4row1_col11,#T_ab15fe10_6a76_11ed_a7dc_085bd6db0ce4row2_col10,#T_ab15fe10_6a76_11ed_a7dc_085bd6db0ce4row3_col11,#T_ab15fe10_6a76_11ed_a7dc_085bd6db0ce4row4_col10,#T_ab15fe10_6a76_11ed_a7dc_085bd6db0ce4row5_col11,#T_ab15fe10_6a76_11ed_a7dc_085bd6db0ce4row6_col13,#T_ab15fe10_6a76_11ed_a7dc_085bd6db0ce4row7_col10,#T_ab15fe10_6a76_11ed_a7dc_085bd6db0ce4row8_col11,#T_ab15fe10_6a76_11ed_a7dc_085bd6db0ce4row9_col13,#T_ab15fe10_6a76_11ed_a7dc_085bd6db0ce4row12_col11{\n",
       "            background-color:  #e8f6fa;\n",
       "            color:  #000000;\n",
       "        }#T_ab15fe10_6a76_11ed_a7dc_085bd6db0ce4row2_col0,#T_ab15fe10_6a76_11ed_a7dc_085bd6db0ce4row4_col0,#T_ab15fe10_6a76_11ed_a7dc_085bd6db0ce4row6_col9,#T_ab15fe10_6a76_11ed_a7dc_085bd6db0ce4row7_col0{\n",
       "            background-color:  #f5fbfd;\n",
       "            color:  #000000;\n",
       "        }#T_ab15fe10_6a76_11ed_a7dc_085bd6db0ce4row2_col4,#T_ab15fe10_6a76_11ed_a7dc_085bd6db0ce4row4_col2{\n",
       "            background-color:  #00451c;\n",
       "            color:  #f1f1f1;\n",
       "        }#T_ab15fe10_6a76_11ed_a7dc_085bd6db0ce4row2_col6,#T_ab15fe10_6a76_11ed_a7dc_085bd6db0ce4row4_col6,#T_ab15fe10_6a76_11ed_a7dc_085bd6db0ce4row8_col5{\n",
       "            background-color:  #daf1f1;\n",
       "            color:  #000000;\n",
       "        }#T_ab15fe10_6a76_11ed_a7dc_085bd6db0ce4row2_col12,#T_ab15fe10_6a76_11ed_a7dc_085bd6db0ce4row4_col12,#T_ab15fe10_6a76_11ed_a7dc_085bd6db0ce4row7_col12,#T_ab15fe10_6a76_11ed_a7dc_085bd6db0ce4row8_col13,#T_ab15fe10_6a76_11ed_a7dc_085bd6db0ce4row10_col8{\n",
       "            background-color:  #ecf8fb;\n",
       "            color:  #000000;\n",
       "        }#T_ab15fe10_6a76_11ed_a7dc_085bd6db0ce4row2_col13{\n",
       "            background-color:  #d5efed;\n",
       "            color:  #000000;\n",
       "        }#T_ab15fe10_6a76_11ed_a7dc_085bd6db0ce4row4_col13{\n",
       "            background-color:  #d6f0ee;\n",
       "            color:  #000000;\n",
       "        }#T_ab15fe10_6a76_11ed_a7dc_085bd6db0ce4row5_col0{\n",
       "            background-color:  #f2fafc;\n",
       "            color:  #000000;\n",
       "        }#T_ab15fe10_6a76_11ed_a7dc_085bd6db0ce4row5_col8,#T_ab15fe10_6a76_11ed_a7dc_085bd6db0ce4row9_col11{\n",
       "            background-color:  #eaf7fa;\n",
       "            color:  #000000;\n",
       "        }#T_ab15fe10_6a76_11ed_a7dc_085bd6db0ce4row5_col10,#T_ab15fe10_6a76_11ed_a7dc_085bd6db0ce4row5_col12,#T_ab15fe10_6a76_11ed_a7dc_085bd6db0ce4row5_col13,#T_ab15fe10_6a76_11ed_a7dc_085bd6db0ce4row10_col13,#T_ab15fe10_6a76_11ed_a7dc_085bd6db0ce4row13_col10{\n",
       "            background-color:  #e7f6f9;\n",
       "            color:  #000000;\n",
       "        }#T_ab15fe10_6a76_11ed_a7dc_085bd6db0ce4row6_col1,#T_ab15fe10_6a76_11ed_a7dc_085bd6db0ce4row6_col3{\n",
       "            background-color:  #6cc4a8;\n",
       "            color:  #000000;\n",
       "        }#T_ab15fe10_6a76_11ed_a7dc_085bd6db0ce4row6_col2{\n",
       "            background-color:  #65c2a3;\n",
       "            color:  #000000;\n",
       "        }#T_ab15fe10_6a76_11ed_a7dc_085bd6db0ce4row6_col4{\n",
       "            background-color:  #64c1a2;\n",
       "            color:  #000000;\n",
       "        }#T_ab15fe10_6a76_11ed_a7dc_085bd6db0ce4row6_col8,#T_ab15fe10_6a76_11ed_a7dc_085bd6db0ce4row10_col12{\n",
       "            background-color:  #edf8fb;\n",
       "            color:  #000000;\n",
       "        }#T_ab15fe10_6a76_11ed_a7dc_085bd6db0ce4row10_col0{\n",
       "            background-color:  #f1fafc;\n",
       "            color:  #000000;\n",
       "        }#T_ab15fe10_6a76_11ed_a7dc_085bd6db0ce4row11_col0{\n",
       "            background-color:  #e3f4f7;\n",
       "            color:  #000000;\n",
       "        }#T_ab15fe10_6a76_11ed_a7dc_085bd6db0ce4row11_col5,#T_ab15fe10_6a76_11ed_a7dc_085bd6db0ce4row13_col5{\n",
       "            background-color:  #dbf2f2;\n",
       "            color:  #000000;\n",
       "        }#T_ab15fe10_6a76_11ed_a7dc_085bd6db0ce4row11_col6{\n",
       "            background-color:  #cfede8;\n",
       "            color:  #000000;\n",
       "        }#T_ab15fe10_6a76_11ed_a7dc_085bd6db0ce4row11_col13,#T_ab15fe10_6a76_11ed_a7dc_085bd6db0ce4row13_col11{\n",
       "            background-color:  #e4f5f8;\n",
       "            color:  #000000;\n",
       "        }#T_ab15fe10_6a76_11ed_a7dc_085bd6db0ce4row12_col5{\n",
       "            background-color:  #d7f0ee;\n",
       "            color:  #000000;\n",
       "        }#T_ab15fe10_6a76_11ed_a7dc_085bd6db0ce4row12_col13{\n",
       "            background-color:  #e6f5f9;\n",
       "            color:  #000000;\n",
       "        }#T_ab15fe10_6a76_11ed_a7dc_085bd6db0ce4row13_col0{\n",
       "            background-color:  #03702e;\n",
       "            color:  #f1f1f1;\n",
       "        }#T_ab15fe10_6a76_11ed_a7dc_085bd6db0ce4row13_col1,#T_ab15fe10_6a76_11ed_a7dc_085bd6db0ce4row13_col3{\n",
       "            background-color:  #80cdb7;\n",
       "            color:  #000000;\n",
       "        }#T_ab15fe10_6a76_11ed_a7dc_085bd6db0ce4row13_col2,#T_ab15fe10_6a76_11ed_a7dc_085bd6db0ce4row13_col4{\n",
       "            background-color:  #57ba92;\n",
       "            color:  #000000;\n",
       "        }#T_ab15fe10_6a76_11ed_a7dc_085bd6db0ce4row13_col8{\n",
       "            background-color:  #f0f9fb;\n",
       "            color:  #000000;\n",
       "        }</style><table id=\"T_ab15fe10_6a76_11ed_a7dc_085bd6db0ce4\" ><thead>    <tr>        <th class=\"blank level0\" ></th>        <th class=\"col_heading level0 col0\" >fare_amount</th>        <th class=\"col_heading level0 col1\" >pickup_longitude</th>        <th class=\"col_heading level0 col2\" >pickup_latitude</th>        <th class=\"col_heading level0 col3\" >dropoff_longitude</th>        <th class=\"col_heading level0 col4\" >dropoff_latitude</th>        <th class=\"col_heading level0 col5\" >passenger_count</th>        <th class=\"col_heading level0 col6\" >second</th>        <th class=\"col_heading level0 col7\" >minute</th>        <th class=\"col_heading level0 col8\" >hour</th>        <th class=\"col_heading level0 col9\" >day</th>        <th class=\"col_heading level0 col10\" >month</th>        <th class=\"col_heading level0 col11\" >year</th>        <th class=\"col_heading level0 col12\" >dayofweek</th>        <th class=\"col_heading level0 col13\" >Distance</th>    </tr></thead><tbody>\n",
       "                <tr>\n",
       "                        <th id=\"T_ab15fe10_6a76_11ed_a7dc_085bd6db0ce4level0_row0\" class=\"row_heading level0 row0\" >fare_amount</th>\n",
       "                        <td id=\"T_ab15fe10_6a76_11ed_a7dc_085bd6db0ce4row0_col0\" class=\"data row0 col0\" >1.000000</td>\n",
       "                        <td id=\"T_ab15fe10_6a76_11ed_a7dc_085bd6db0ce4row0_col1\" class=\"data row0 col1\" >0.005885</td>\n",
       "                        <td id=\"T_ab15fe10_6a76_11ed_a7dc_085bd6db0ce4row0_col2\" class=\"data row0 col2\" >-0.006253</td>\n",
       "                        <td id=\"T_ab15fe10_6a76_11ed_a7dc_085bd6db0ce4row0_col3\" class=\"data row0 col3\" >0.005501</td>\n",
       "                        <td id=\"T_ab15fe10_6a76_11ed_a7dc_085bd6db0ce4row0_col4\" class=\"data row0 col4\" >-0.006142</td>\n",
       "                        <td id=\"T_ab15fe10_6a76_11ed_a7dc_085bd6db0ce4row0_col5\" class=\"data row0 col5\" >0.011693</td>\n",
       "                        <td id=\"T_ab15fe10_6a76_11ed_a7dc_085bd6db0ce4row0_col6\" class=\"data row0 col6\" >-0.000995</td>\n",
       "                        <td id=\"T_ab15fe10_6a76_11ed_a7dc_085bd6db0ce4row0_col7\" class=\"data row0 col7\" >-0.007795</td>\n",
       "                        <td id=\"T_ab15fe10_6a76_11ed_a7dc_085bd6db0ce4row0_col8\" class=\"data row0 col8\" >-0.020692</td>\n",
       "                        <td id=\"T_ab15fe10_6a76_11ed_a7dc_085bd6db0ce4row0_col9\" class=\"data row0 col9\" >0.001059</td>\n",
       "                        <td id=\"T_ab15fe10_6a76_11ed_a7dc_085bd6db0ce4row0_col10\" class=\"data row0 col10\" >0.023759</td>\n",
       "                        <td id=\"T_ab15fe10_6a76_11ed_a7dc_085bd6db0ce4row0_col11\" class=\"data row0 col11\" >0.121195</td>\n",
       "                        <td id=\"T_ab15fe10_6a76_11ed_a7dc_085bd6db0ce4row0_col12\" class=\"data row0 col12\" >0.006181</td>\n",
       "                        <td id=\"T_ab15fe10_6a76_11ed_a7dc_085bd6db0ce4row0_col13\" class=\"data row0 col13\" >0.857729</td>\n",
       "            </tr>\n",
       "            <tr>\n",
       "                        <th id=\"T_ab15fe10_6a76_11ed_a7dc_085bd6db0ce4level0_row1\" class=\"row_heading level0 row1\" >pickup_longitude</th>\n",
       "                        <td id=\"T_ab15fe10_6a76_11ed_a7dc_085bd6db0ce4row1_col0\" class=\"data row1 col0\" >0.005885</td>\n",
       "                        <td id=\"T_ab15fe10_6a76_11ed_a7dc_085bd6db0ce4row1_col1\" class=\"data row1 col1\" >1.000000</td>\n",
       "                        <td id=\"T_ab15fe10_6a76_11ed_a7dc_085bd6db0ce4row1_col2\" class=\"data row1 col2\" >-0.973204</td>\n",
       "                        <td id=\"T_ab15fe10_6a76_11ed_a7dc_085bd6db0ce4row1_col3\" class=\"data row1 col3\" >0.999992</td>\n",
       "                        <td id=\"T_ab15fe10_6a76_11ed_a7dc_085bd6db0ce4row1_col4\" class=\"data row1 col4\" >-0.981941</td>\n",
       "                        <td id=\"T_ab15fe10_6a76_11ed_a7dc_085bd6db0ce4row1_col5\" class=\"data row1 col5\" >-0.000649</td>\n",
       "                        <td id=\"T_ab15fe10_6a76_11ed_a7dc_085bd6db0ce4row1_col6\" class=\"data row1 col6\" >-0.014677</td>\n",
       "                        <td id=\"T_ab15fe10_6a76_11ed_a7dc_085bd6db0ce4row1_col7\" class=\"data row1 col7\" >0.002796</td>\n",
       "                        <td id=\"T_ab15fe10_6a76_11ed_a7dc_085bd6db0ce4row1_col8\" class=\"data row1 col8\" >0.001547</td>\n",
       "                        <td id=\"T_ab15fe10_6a76_11ed_a7dc_085bd6db0ce4row1_col9\" class=\"data row1 col9\" >0.005300</td>\n",
       "                        <td id=\"T_ab15fe10_6a76_11ed_a7dc_085bd6db0ce4row1_col10\" class=\"data row1 col10\" >-0.002667</td>\n",
       "                        <td id=\"T_ab15fe10_6a76_11ed_a7dc_085bd6db0ce4row1_col11\" class=\"data row1 col11\" >0.005907</td>\n",
       "                        <td id=\"T_ab15fe10_6a76_11ed_a7dc_085bd6db0ce4row1_col12\" class=\"data row1 col12\" >0.003006</td>\n",
       "                        <td id=\"T_ab15fe10_6a76_11ed_a7dc_085bd6db0ce4row1_col13\" class=\"data row1 col13\" >-0.117044</td>\n",
       "            </tr>\n",
       "            <tr>\n",
       "                        <th id=\"T_ab15fe10_6a76_11ed_a7dc_085bd6db0ce4level0_row2\" class=\"row_heading level0 row2\" >pickup_latitude</th>\n",
       "                        <td id=\"T_ab15fe10_6a76_11ed_a7dc_085bd6db0ce4row2_col0\" class=\"data row2 col0\" >-0.006253</td>\n",
       "                        <td id=\"T_ab15fe10_6a76_11ed_a7dc_085bd6db0ce4row2_col1\" class=\"data row2 col1\" >-0.973204</td>\n",
       "                        <td id=\"T_ab15fe10_6a76_11ed_a7dc_085bd6db0ce4row2_col2\" class=\"data row2 col2\" >1.000000</td>\n",
       "                        <td id=\"T_ab15fe10_6a76_11ed_a7dc_085bd6db0ce4row2_col3\" class=\"data row2 col3\" >-0.973206</td>\n",
       "                        <td id=\"T_ab15fe10_6a76_11ed_a7dc_085bd6db0ce4row2_col4\" class=\"data row2 col4\" >0.991076</td>\n",
       "                        <td id=\"T_ab15fe10_6a76_11ed_a7dc_085bd6db0ce4row2_col5\" class=\"data row2 col5\" >-0.001190</td>\n",
       "                        <td id=\"T_ab15fe10_6a76_11ed_a7dc_085bd6db0ce4row2_col6\" class=\"data row2 col6\" >0.016809</td>\n",
       "                        <td id=\"T_ab15fe10_6a76_11ed_a7dc_085bd6db0ce4row2_col7\" class=\"data row2 col7\" >-0.002295</td>\n",
       "                        <td id=\"T_ab15fe10_6a76_11ed_a7dc_085bd6db0ce4row2_col8\" class=\"data row2 col8\" >-0.001823</td>\n",
       "                        <td id=\"T_ab15fe10_6a76_11ed_a7dc_085bd6db0ce4row2_col9\" class=\"data row2 col9\" >-0.008901</td>\n",
       "                        <td id=\"T_ab15fe10_6a76_11ed_a7dc_085bd6db0ce4row2_col10\" class=\"data row2 col10\" >0.004098</td>\n",
       "                        <td id=\"T_ab15fe10_6a76_11ed_a7dc_085bd6db0ce4row2_col11\" class=\"data row2 col11\" >-0.008466</td>\n",
       "                        <td id=\"T_ab15fe10_6a76_11ed_a7dc_085bd6db0ce4row2_col12\" class=\"data row2 col12\" >-0.004787</td>\n",
       "                        <td id=\"T_ab15fe10_6a76_11ed_a7dc_085bd6db0ce4row2_col13\" class=\"data row2 col13\" >0.110843</td>\n",
       "            </tr>\n",
       "            <tr>\n",
       "                        <th id=\"T_ab15fe10_6a76_11ed_a7dc_085bd6db0ce4level0_row3\" class=\"row_heading level0 row3\" >dropoff_longitude</th>\n",
       "                        <td id=\"T_ab15fe10_6a76_11ed_a7dc_085bd6db0ce4row3_col0\" class=\"data row3 col0\" >0.005501</td>\n",
       "                        <td id=\"T_ab15fe10_6a76_11ed_a7dc_085bd6db0ce4row3_col1\" class=\"data row3 col1\" >0.999992</td>\n",
       "                        <td id=\"T_ab15fe10_6a76_11ed_a7dc_085bd6db0ce4row3_col2\" class=\"data row3 col2\" >-0.973206</td>\n",
       "                        <td id=\"T_ab15fe10_6a76_11ed_a7dc_085bd6db0ce4row3_col3\" class=\"data row3 col3\" >1.000000</td>\n",
       "                        <td id=\"T_ab15fe10_6a76_11ed_a7dc_085bd6db0ce4row3_col4\" class=\"data row3 col4\" >-0.981942</td>\n",
       "                        <td id=\"T_ab15fe10_6a76_11ed_a7dc_085bd6db0ce4row3_col5\" class=\"data row3 col5\" >-0.000650</td>\n",
       "                        <td id=\"T_ab15fe10_6a76_11ed_a7dc_085bd6db0ce4row3_col6\" class=\"data row3 col6\" >-0.014638</td>\n",
       "                        <td id=\"T_ab15fe10_6a76_11ed_a7dc_085bd6db0ce4row3_col7\" class=\"data row3 col7\" >0.002803</td>\n",
       "                        <td id=\"T_ab15fe10_6a76_11ed_a7dc_085bd6db0ce4row3_col8\" class=\"data row3 col8\" >0.001316</td>\n",
       "                        <td id=\"T_ab15fe10_6a76_11ed_a7dc_085bd6db0ce4row3_col9\" class=\"data row3 col9\" >0.005307</td>\n",
       "                        <td id=\"T_ab15fe10_6a76_11ed_a7dc_085bd6db0ce4row3_col10\" class=\"data row3 col10\" >-0.002656</td>\n",
       "                        <td id=\"T_ab15fe10_6a76_11ed_a7dc_085bd6db0ce4row3_col11\" class=\"data row3 col11\" >0.005878</td>\n",
       "                        <td id=\"T_ab15fe10_6a76_11ed_a7dc_085bd6db0ce4row3_col12\" class=\"data row3 col12\" >0.003082</td>\n",
       "                        <td id=\"T_ab15fe10_6a76_11ed_a7dc_085bd6db0ce4row3_col13\" class=\"data row3 col13\" >-0.117282</td>\n",
       "            </tr>\n",
       "            <tr>\n",
       "                        <th id=\"T_ab15fe10_6a76_11ed_a7dc_085bd6db0ce4level0_row4\" class=\"row_heading level0 row4\" >dropoff_latitude</th>\n",
       "                        <td id=\"T_ab15fe10_6a76_11ed_a7dc_085bd6db0ce4row4_col0\" class=\"data row4 col0\" >-0.006142</td>\n",
       "                        <td id=\"T_ab15fe10_6a76_11ed_a7dc_085bd6db0ce4row4_col1\" class=\"data row4 col1\" >-0.981941</td>\n",
       "                        <td id=\"T_ab15fe10_6a76_11ed_a7dc_085bd6db0ce4row4_col2\" class=\"data row4 col2\" >0.991076</td>\n",
       "                        <td id=\"T_ab15fe10_6a76_11ed_a7dc_085bd6db0ce4row4_col3\" class=\"data row4 col3\" >-0.981942</td>\n",
       "                        <td id=\"T_ab15fe10_6a76_11ed_a7dc_085bd6db0ce4row4_col4\" class=\"data row4 col4\" >1.000000</td>\n",
       "                        <td id=\"T_ab15fe10_6a76_11ed_a7dc_085bd6db0ce4row4_col5\" class=\"data row4 col5\" >-0.001035</td>\n",
       "                        <td id=\"T_ab15fe10_6a76_11ed_a7dc_085bd6db0ce4row4_col6\" class=\"data row4 col6\" >0.017202</td>\n",
       "                        <td id=\"T_ab15fe10_6a76_11ed_a7dc_085bd6db0ce4row4_col7\" class=\"data row4 col7\" >-0.002593</td>\n",
       "                        <td id=\"T_ab15fe10_6a76_11ed_a7dc_085bd6db0ce4row4_col8\" class=\"data row4 col8\" >-0.001460</td>\n",
       "                        <td id=\"T_ab15fe10_6a76_11ed_a7dc_085bd6db0ce4row4_col9\" class=\"data row4 col9\" >-0.008900</td>\n",
       "                        <td id=\"T_ab15fe10_6a76_11ed_a7dc_085bd6db0ce4row4_col10\" class=\"data row4 col10\" >0.004143</td>\n",
       "                        <td id=\"T_ab15fe10_6a76_11ed_a7dc_085bd6db0ce4row4_col11\" class=\"data row4 col11\" >-0.008553</td>\n",
       "                        <td id=\"T_ab15fe10_6a76_11ed_a7dc_085bd6db0ce4row4_col12\" class=\"data row4 col12\" >-0.004648</td>\n",
       "                        <td id=\"T_ab15fe10_6a76_11ed_a7dc_085bd6db0ce4row4_col13\" class=\"data row4 col13\" >0.109486</td>\n",
       "            </tr>\n",
       "            <tr>\n",
       "                        <th id=\"T_ab15fe10_6a76_11ed_a7dc_085bd6db0ce4level0_row5\" class=\"row_heading level0 row5\" >passenger_count</th>\n",
       "                        <td id=\"T_ab15fe10_6a76_11ed_a7dc_085bd6db0ce4row5_col0\" class=\"data row5 col0\" >0.011693</td>\n",
       "                        <td id=\"T_ab15fe10_6a76_11ed_a7dc_085bd6db0ce4row5_col1\" class=\"data row5 col1\" >-0.000649</td>\n",
       "                        <td id=\"T_ab15fe10_6a76_11ed_a7dc_085bd6db0ce4row5_col2\" class=\"data row5 col2\" >-0.001190</td>\n",
       "                        <td id=\"T_ab15fe10_6a76_11ed_a7dc_085bd6db0ce4row5_col3\" class=\"data row5 col3\" >-0.000650</td>\n",
       "                        <td id=\"T_ab15fe10_6a76_11ed_a7dc_085bd6db0ce4row5_col4\" class=\"data row5 col4\" >-0.001035</td>\n",
       "                        <td id=\"T_ab15fe10_6a76_11ed_a7dc_085bd6db0ce4row5_col5\" class=\"data row5 col5\" >1.000000</td>\n",
       "                        <td id=\"T_ab15fe10_6a76_11ed_a7dc_085bd6db0ce4row5_col6\" class=\"data row5 col6\" >-0.202987</td>\n",
       "                        <td id=\"T_ab15fe10_6a76_11ed_a7dc_085bd6db0ce4row5_col7\" class=\"data row5 col7\" >0.000733</td>\n",
       "                        <td id=\"T_ab15fe10_6a76_11ed_a7dc_085bd6db0ce4row5_col8\" class=\"data row5 col8\" >0.013226</td>\n",
       "                        <td id=\"T_ab15fe10_6a76_11ed_a7dc_085bd6db0ce4row5_col9\" class=\"data row5 col9\" >0.003146</td>\n",
       "                        <td id=\"T_ab15fe10_6a76_11ed_a7dc_085bd6db0ce4row5_col10\" class=\"data row5 col10\" >0.009921</td>\n",
       "                        <td id=\"T_ab15fe10_6a76_11ed_a7dc_085bd6db0ce4row5_col11\" class=\"data row5 col11\" >0.004841</td>\n",
       "                        <td id=\"T_ab15fe10_6a76_11ed_a7dc_085bd6db0ce4row5_col12\" class=\"data row5 col12\" >0.033360</td>\n",
       "                        <td id=\"T_ab15fe10_6a76_11ed_a7dc_085bd6db0ce4row5_col13\" class=\"data row5 col13\" >0.007784</td>\n",
       "            </tr>\n",
       "            <tr>\n",
       "                        <th id=\"T_ab15fe10_6a76_11ed_a7dc_085bd6db0ce4level0_row6\" class=\"row_heading level0 row6\" >second</th>\n",
       "                        <td id=\"T_ab15fe10_6a76_11ed_a7dc_085bd6db0ce4row6_col0\" class=\"data row6 col0\" >-0.000995</td>\n",
       "                        <td id=\"T_ab15fe10_6a76_11ed_a7dc_085bd6db0ce4row6_col1\" class=\"data row6 col1\" >-0.014677</td>\n",
       "                        <td id=\"T_ab15fe10_6a76_11ed_a7dc_085bd6db0ce4row6_col2\" class=\"data row6 col2\" >0.016809</td>\n",
       "                        <td id=\"T_ab15fe10_6a76_11ed_a7dc_085bd6db0ce4row6_col3\" class=\"data row6 col3\" >-0.014638</td>\n",
       "                        <td id=\"T_ab15fe10_6a76_11ed_a7dc_085bd6db0ce4row6_col4\" class=\"data row6 col4\" >0.017202</td>\n",
       "                        <td id=\"T_ab15fe10_6a76_11ed_a7dc_085bd6db0ce4row6_col5\" class=\"data row6 col5\" >-0.202987</td>\n",
       "                        <td id=\"T_ab15fe10_6a76_11ed_a7dc_085bd6db0ce4row6_col6\" class=\"data row6 col6\" >1.000000</td>\n",
       "                        <td id=\"T_ab15fe10_6a76_11ed_a7dc_085bd6db0ce4row6_col7\" class=\"data row6 col7\" >0.001893</td>\n",
       "                        <td id=\"T_ab15fe10_6a76_11ed_a7dc_085bd6db0ce4row6_col8\" class=\"data row6 col8\" >-0.013419</td>\n",
       "                        <td id=\"T_ab15fe10_6a76_11ed_a7dc_085bd6db0ce4row6_col9\" class=\"data row6 col9\" >-0.002100</td>\n",
       "                        <td id=\"T_ab15fe10_6a76_11ed_a7dc_085bd6db0ce4row6_col10\" class=\"data row6 col10\" >-0.049734</td>\n",
       "                        <td id=\"T_ab15fe10_6a76_11ed_a7dc_085bd6db0ce4row6_col11\" class=\"data row6 col11\" >0.083106</td>\n",
       "                        <td id=\"T_ab15fe10_6a76_11ed_a7dc_085bd6db0ce4row6_col12\" class=\"data row6 col12\" >-0.000113</td>\n",
       "                        <td id=\"T_ab15fe10_6a76_11ed_a7dc_085bd6db0ce4row6_col13\" class=\"data row6 col13\" >-0.000350</td>\n",
       "            </tr>\n",
       "            <tr>\n",
       "                        <th id=\"T_ab15fe10_6a76_11ed_a7dc_085bd6db0ce4level0_row7\" class=\"row_heading level0 row7\" >minute</th>\n",
       "                        <td id=\"T_ab15fe10_6a76_11ed_a7dc_085bd6db0ce4row7_col0\" class=\"data row7 col0\" >-0.007795</td>\n",
       "                        <td id=\"T_ab15fe10_6a76_11ed_a7dc_085bd6db0ce4row7_col1\" class=\"data row7 col1\" >0.002796</td>\n",
       "                        <td id=\"T_ab15fe10_6a76_11ed_a7dc_085bd6db0ce4row7_col2\" class=\"data row7 col2\" >-0.002295</td>\n",
       "                        <td id=\"T_ab15fe10_6a76_11ed_a7dc_085bd6db0ce4row7_col3\" class=\"data row7 col3\" >0.002803</td>\n",
       "                        <td id=\"T_ab15fe10_6a76_11ed_a7dc_085bd6db0ce4row7_col4\" class=\"data row7 col4\" >-0.002593</td>\n",
       "                        <td id=\"T_ab15fe10_6a76_11ed_a7dc_085bd6db0ce4row7_col5\" class=\"data row7 col5\" >0.000733</td>\n",
       "                        <td id=\"T_ab15fe10_6a76_11ed_a7dc_085bd6db0ce4row7_col6\" class=\"data row7 col6\" >0.001893</td>\n",
       "                        <td id=\"T_ab15fe10_6a76_11ed_a7dc_085bd6db0ce4row7_col7\" class=\"data row7 col7\" >1.000000</td>\n",
       "                        <td id=\"T_ab15fe10_6a76_11ed_a7dc_085bd6db0ce4row7_col8\" class=\"data row7 col8\" >0.001352</td>\n",
       "                        <td id=\"T_ab15fe10_6a76_11ed_a7dc_085bd6db0ce4row7_col9\" class=\"data row7 col9\" >-0.001255</td>\n",
       "                        <td id=\"T_ab15fe10_6a76_11ed_a7dc_085bd6db0ce4row7_col10\" class=\"data row7 col10\" >-0.001606</td>\n",
       "                        <td id=\"T_ab15fe10_6a76_11ed_a7dc_085bd6db0ce4row7_col11\" class=\"data row7 col11\" >-0.002687</td>\n",
       "                        <td id=\"T_ab15fe10_6a76_11ed_a7dc_085bd6db0ce4row7_col12\" class=\"data row7 col12\" >-0.002405</td>\n",
       "                        <td id=\"T_ab15fe10_6a76_11ed_a7dc_085bd6db0ce4row7_col13\" class=\"data row7 col13\" >-0.007998</td>\n",
       "            </tr>\n",
       "            <tr>\n",
       "                        <th id=\"T_ab15fe10_6a76_11ed_a7dc_085bd6db0ce4level0_row8\" class=\"row_heading level0 row8\" >hour</th>\n",
       "                        <td id=\"T_ab15fe10_6a76_11ed_a7dc_085bd6db0ce4row8_col0\" class=\"data row8 col0\" >-0.020692</td>\n",
       "                        <td id=\"T_ab15fe10_6a76_11ed_a7dc_085bd6db0ce4row8_col1\" class=\"data row8 col1\" >0.001547</td>\n",
       "                        <td id=\"T_ab15fe10_6a76_11ed_a7dc_085bd6db0ce4row8_col2\" class=\"data row8 col2\" >-0.001823</td>\n",
       "                        <td id=\"T_ab15fe10_6a76_11ed_a7dc_085bd6db0ce4row8_col3\" class=\"data row8 col3\" >0.001316</td>\n",
       "                        <td id=\"T_ab15fe10_6a76_11ed_a7dc_085bd6db0ce4row8_col4\" class=\"data row8 col4\" >-0.001460</td>\n",
       "                        <td id=\"T_ab15fe10_6a76_11ed_a7dc_085bd6db0ce4row8_col5\" class=\"data row8 col5\" >0.013226</td>\n",
       "                        <td id=\"T_ab15fe10_6a76_11ed_a7dc_085bd6db0ce4row8_col6\" class=\"data row8 col6\" >-0.013419</td>\n",
       "                        <td id=\"T_ab15fe10_6a76_11ed_a7dc_085bd6db0ce4row8_col7\" class=\"data row8 col7\" >0.001352</td>\n",
       "                        <td id=\"T_ab15fe10_6a76_11ed_a7dc_085bd6db0ce4row8_col8\" class=\"data row8 col8\" >1.000000</td>\n",
       "                        <td id=\"T_ab15fe10_6a76_11ed_a7dc_085bd6db0ce4row8_col9\" class=\"data row8 col9\" >0.004849</td>\n",
       "                        <td id=\"T_ab15fe10_6a76_11ed_a7dc_085bd6db0ce4row8_col10\" class=\"data row8 col10\" >-0.003989</td>\n",
       "                        <td id=\"T_ab15fe10_6a76_11ed_a7dc_085bd6db0ce4row8_col11\" class=\"data row8 col11\" >0.002171</td>\n",
       "                        <td id=\"T_ab15fe10_6a76_11ed_a7dc_085bd6db0ce4row8_col12\" class=\"data row8 col12\" >-0.086995</td>\n",
       "                        <td id=\"T_ab15fe10_6a76_11ed_a7dc_085bd6db0ce4row8_col13\" class=\"data row8 col13\" >-0.031855</td>\n",
       "            </tr>\n",
       "            <tr>\n",
       "                        <th id=\"T_ab15fe10_6a76_11ed_a7dc_085bd6db0ce4level0_row9\" class=\"row_heading level0 row9\" >day</th>\n",
       "                        <td id=\"T_ab15fe10_6a76_11ed_a7dc_085bd6db0ce4row9_col0\" class=\"data row9 col0\" >0.001059</td>\n",
       "                        <td id=\"T_ab15fe10_6a76_11ed_a7dc_085bd6db0ce4row9_col1\" class=\"data row9 col1\" >0.005300</td>\n",
       "                        <td id=\"T_ab15fe10_6a76_11ed_a7dc_085bd6db0ce4row9_col2\" class=\"data row9 col2\" >-0.008901</td>\n",
       "                        <td id=\"T_ab15fe10_6a76_11ed_a7dc_085bd6db0ce4row9_col3\" class=\"data row9 col3\" >0.005307</td>\n",
       "                        <td id=\"T_ab15fe10_6a76_11ed_a7dc_085bd6db0ce4row9_col4\" class=\"data row9 col4\" >-0.008900</td>\n",
       "                        <td id=\"T_ab15fe10_6a76_11ed_a7dc_085bd6db0ce4row9_col5\" class=\"data row9 col5\" >0.003146</td>\n",
       "                        <td id=\"T_ab15fe10_6a76_11ed_a7dc_085bd6db0ce4row9_col6\" class=\"data row9 col6\" >-0.002100</td>\n",
       "                        <td id=\"T_ab15fe10_6a76_11ed_a7dc_085bd6db0ce4row9_col7\" class=\"data row9 col7\" >-0.001255</td>\n",
       "                        <td id=\"T_ab15fe10_6a76_11ed_a7dc_085bd6db0ce4row9_col8\" class=\"data row9 col8\" >0.004849</td>\n",
       "                        <td id=\"T_ab15fe10_6a76_11ed_a7dc_085bd6db0ce4row9_col9\" class=\"data row9 col9\" >1.000000</td>\n",
       "                        <td id=\"T_ab15fe10_6a76_11ed_a7dc_085bd6db0ce4row9_col10\" class=\"data row9 col10\" >-0.017330</td>\n",
       "                        <td id=\"T_ab15fe10_6a76_11ed_a7dc_085bd6db0ce4row9_col11\" class=\"data row9 col11\" >-0.012055</td>\n",
       "                        <td id=\"T_ab15fe10_6a76_11ed_a7dc_085bd6db0ce4row9_col12\" class=\"data row9 col12\" >0.005559</td>\n",
       "                        <td id=\"T_ab15fe10_6a76_11ed_a7dc_085bd6db0ce4row9_col13\" class=\"data row9 col13\" >0.000008</td>\n",
       "            </tr>\n",
       "            <tr>\n",
       "                        <th id=\"T_ab15fe10_6a76_11ed_a7dc_085bd6db0ce4level0_row10\" class=\"row_heading level0 row10\" >month</th>\n",
       "                        <td id=\"T_ab15fe10_6a76_11ed_a7dc_085bd6db0ce4row10_col0\" class=\"data row10 col0\" >0.023759</td>\n",
       "                        <td id=\"T_ab15fe10_6a76_11ed_a7dc_085bd6db0ce4row10_col1\" class=\"data row10 col1\" >-0.002667</td>\n",
       "                        <td id=\"T_ab15fe10_6a76_11ed_a7dc_085bd6db0ce4row10_col2\" class=\"data row10 col2\" >0.004098</td>\n",
       "                        <td id=\"T_ab15fe10_6a76_11ed_a7dc_085bd6db0ce4row10_col3\" class=\"data row10 col3\" >-0.002656</td>\n",
       "                        <td id=\"T_ab15fe10_6a76_11ed_a7dc_085bd6db0ce4row10_col4\" class=\"data row10 col4\" >0.004143</td>\n",
       "                        <td id=\"T_ab15fe10_6a76_11ed_a7dc_085bd6db0ce4row10_col5\" class=\"data row10 col5\" >0.009921</td>\n",
       "                        <td id=\"T_ab15fe10_6a76_11ed_a7dc_085bd6db0ce4row10_col6\" class=\"data row10 col6\" >-0.049734</td>\n",
       "                        <td id=\"T_ab15fe10_6a76_11ed_a7dc_085bd6db0ce4row10_col7\" class=\"data row10 col7\" >-0.001606</td>\n",
       "                        <td id=\"T_ab15fe10_6a76_11ed_a7dc_085bd6db0ce4row10_col8\" class=\"data row10 col8\" >-0.003989</td>\n",
       "                        <td id=\"T_ab15fe10_6a76_11ed_a7dc_085bd6db0ce4row10_col9\" class=\"data row10 col9\" >-0.017330</td>\n",
       "                        <td id=\"T_ab15fe10_6a76_11ed_a7dc_085bd6db0ce4row10_col10\" class=\"data row10 col10\" >1.000000</td>\n",
       "                        <td id=\"T_ab15fe10_6a76_11ed_a7dc_085bd6db0ce4row10_col11\" class=\"data row10 col11\" >-0.115940</td>\n",
       "                        <td id=\"T_ab15fe10_6a76_11ed_a7dc_085bd6db0ce4row10_col12\" class=\"data row10 col12\" >-0.008799</td>\n",
       "                        <td id=\"T_ab15fe10_6a76_11ed_a7dc_085bd6db0ce4row10_col13\" class=\"data row10 col13\" >0.011622</td>\n",
       "            </tr>\n",
       "            <tr>\n",
       "                        <th id=\"T_ab15fe10_6a76_11ed_a7dc_085bd6db0ce4level0_row11\" class=\"row_heading level0 row11\" >year</th>\n",
       "                        <td id=\"T_ab15fe10_6a76_11ed_a7dc_085bd6db0ce4row11_col0\" class=\"data row11 col0\" >0.121195</td>\n",
       "                        <td id=\"T_ab15fe10_6a76_11ed_a7dc_085bd6db0ce4row11_col1\" class=\"data row11 col1\" >0.005907</td>\n",
       "                        <td id=\"T_ab15fe10_6a76_11ed_a7dc_085bd6db0ce4row11_col2\" class=\"data row11 col2\" >-0.008466</td>\n",
       "                        <td id=\"T_ab15fe10_6a76_11ed_a7dc_085bd6db0ce4row11_col3\" class=\"data row11 col3\" >0.005878</td>\n",
       "                        <td id=\"T_ab15fe10_6a76_11ed_a7dc_085bd6db0ce4row11_col4\" class=\"data row11 col4\" >-0.008553</td>\n",
       "                        <td id=\"T_ab15fe10_6a76_11ed_a7dc_085bd6db0ce4row11_col5\" class=\"data row11 col5\" >0.004841</td>\n",
       "                        <td id=\"T_ab15fe10_6a76_11ed_a7dc_085bd6db0ce4row11_col6\" class=\"data row11 col6\" >0.083106</td>\n",
       "                        <td id=\"T_ab15fe10_6a76_11ed_a7dc_085bd6db0ce4row11_col7\" class=\"data row11 col7\" >-0.002687</td>\n",
       "                        <td id=\"T_ab15fe10_6a76_11ed_a7dc_085bd6db0ce4row11_col8\" class=\"data row11 col8\" >0.002171</td>\n",
       "                        <td id=\"T_ab15fe10_6a76_11ed_a7dc_085bd6db0ce4row11_col9\" class=\"data row11 col9\" >-0.012055</td>\n",
       "                        <td id=\"T_ab15fe10_6a76_11ed_a7dc_085bd6db0ce4row11_col10\" class=\"data row11 col10\" >-0.115940</td>\n",
       "                        <td id=\"T_ab15fe10_6a76_11ed_a7dc_085bd6db0ce4row11_col11\" class=\"data row11 col11\" >1.000000</td>\n",
       "                        <td id=\"T_ab15fe10_6a76_11ed_a7dc_085bd6db0ce4row11_col12\" class=\"data row11 col12\" >0.006007</td>\n",
       "                        <td id=\"T_ab15fe10_6a76_11ed_a7dc_085bd6db0ce4row11_col13\" class=\"data row11 col13\" >0.028619</td>\n",
       "            </tr>\n",
       "            <tr>\n",
       "                        <th id=\"T_ab15fe10_6a76_11ed_a7dc_085bd6db0ce4level0_row12\" class=\"row_heading level0 row12\" >dayofweek</th>\n",
       "                        <td id=\"T_ab15fe10_6a76_11ed_a7dc_085bd6db0ce4row12_col0\" class=\"data row12 col0\" >0.006181</td>\n",
       "                        <td id=\"T_ab15fe10_6a76_11ed_a7dc_085bd6db0ce4row12_col1\" class=\"data row12 col1\" >0.003006</td>\n",
       "                        <td id=\"T_ab15fe10_6a76_11ed_a7dc_085bd6db0ce4row12_col2\" class=\"data row12 col2\" >-0.004787</td>\n",
       "                        <td id=\"T_ab15fe10_6a76_11ed_a7dc_085bd6db0ce4row12_col3\" class=\"data row12 col3\" >0.003082</td>\n",
       "                        <td id=\"T_ab15fe10_6a76_11ed_a7dc_085bd6db0ce4row12_col4\" class=\"data row12 col4\" >-0.004648</td>\n",
       "                        <td id=\"T_ab15fe10_6a76_11ed_a7dc_085bd6db0ce4row12_col5\" class=\"data row12 col5\" >0.033360</td>\n",
       "                        <td id=\"T_ab15fe10_6a76_11ed_a7dc_085bd6db0ce4row12_col6\" class=\"data row12 col6\" >-0.000113</td>\n",
       "                        <td id=\"T_ab15fe10_6a76_11ed_a7dc_085bd6db0ce4row12_col7\" class=\"data row12 col7\" >-0.002405</td>\n",
       "                        <td id=\"T_ab15fe10_6a76_11ed_a7dc_085bd6db0ce4row12_col8\" class=\"data row12 col8\" >-0.086995</td>\n",
       "                        <td id=\"T_ab15fe10_6a76_11ed_a7dc_085bd6db0ce4row12_col9\" class=\"data row12 col9\" >0.005559</td>\n",
       "                        <td id=\"T_ab15fe10_6a76_11ed_a7dc_085bd6db0ce4row12_col10\" class=\"data row12 col10\" >-0.008799</td>\n",
       "                        <td id=\"T_ab15fe10_6a76_11ed_a7dc_085bd6db0ce4row12_col11\" class=\"data row12 col11\" >0.006007</td>\n",
       "                        <td id=\"T_ab15fe10_6a76_11ed_a7dc_085bd6db0ce4row12_col12\" class=\"data row12 col12\" >1.000000</td>\n",
       "                        <td id=\"T_ab15fe10_6a76_11ed_a7dc_085bd6db0ce4row12_col13\" class=\"data row12 col13\" >0.016905</td>\n",
       "            </tr>\n",
       "            <tr>\n",
       "                        <th id=\"T_ab15fe10_6a76_11ed_a7dc_085bd6db0ce4level0_row13\" class=\"row_heading level0 row13\" >Distance</th>\n",
       "                        <td id=\"T_ab15fe10_6a76_11ed_a7dc_085bd6db0ce4row13_col0\" class=\"data row13 col0\" >0.857729</td>\n",
       "                        <td id=\"T_ab15fe10_6a76_11ed_a7dc_085bd6db0ce4row13_col1\" class=\"data row13 col1\" >-0.117044</td>\n",
       "                        <td id=\"T_ab15fe10_6a76_11ed_a7dc_085bd6db0ce4row13_col2\" class=\"data row13 col2\" >0.110843</td>\n",
       "                        <td id=\"T_ab15fe10_6a76_11ed_a7dc_085bd6db0ce4row13_col3\" class=\"data row13 col3\" >-0.117282</td>\n",
       "                        <td id=\"T_ab15fe10_6a76_11ed_a7dc_085bd6db0ce4row13_col4\" class=\"data row13 col4\" >0.109486</td>\n",
       "                        <td id=\"T_ab15fe10_6a76_11ed_a7dc_085bd6db0ce4row13_col5\" class=\"data row13 col5\" >0.007784</td>\n",
       "                        <td id=\"T_ab15fe10_6a76_11ed_a7dc_085bd6db0ce4row13_col6\" class=\"data row13 col6\" >-0.000350</td>\n",
       "                        <td id=\"T_ab15fe10_6a76_11ed_a7dc_085bd6db0ce4row13_col7\" class=\"data row13 col7\" >-0.007998</td>\n",
       "                        <td id=\"T_ab15fe10_6a76_11ed_a7dc_085bd6db0ce4row13_col8\" class=\"data row13 col8\" >-0.031855</td>\n",
       "                        <td id=\"T_ab15fe10_6a76_11ed_a7dc_085bd6db0ce4row13_col9\" class=\"data row13 col9\" >0.000008</td>\n",
       "                        <td id=\"T_ab15fe10_6a76_11ed_a7dc_085bd6db0ce4row13_col10\" class=\"data row13 col10\" >0.011622</td>\n",
       "                        <td id=\"T_ab15fe10_6a76_11ed_a7dc_085bd6db0ce4row13_col11\" class=\"data row13 col11\" >0.028619</td>\n",
       "                        <td id=\"T_ab15fe10_6a76_11ed_a7dc_085bd6db0ce4row13_col12\" class=\"data row13 col12\" >0.016905</td>\n",
       "                        <td id=\"T_ab15fe10_6a76_11ed_a7dc_085bd6db0ce4row13_col13\" class=\"data row13 col13\" >1.000000</td>\n",
       "            </tr>\n",
       "    </tbody></table>"
      ],
      "text/plain": [
       "<pandas.io.formats.style.Styler at 0x1d98fad8bb0>"
      ]
     },
     "execution_count": 22,
     "metadata": {},
     "output_type": "execute_result"
    }
   ],
   "source": [
    "corr = df.corr()\n",
    "corr.style.background_gradient(cmap='BuGn')"
   ]
  },
  {
   "cell_type": "code",
   "execution_count": 23,
   "metadata": {
    "id": "6nN6uz7Rjbss"
   },
   "outputs": [],
   "source": [
    "X = df['Distance'].values.reshape(-1, 1) #Independent Variable\n",
    "y = df['fare_amount'].values.reshape(-1, 1) #Dependent Variable"
   ]
  },
  {
   "cell_type": "code",
   "execution_count": 24,
   "metadata": {
    "colab": {
     "base_uri": "https://localhost:8080/"
    },
    "id": "HiPPOtNEjgP-",
    "outputId": "88cd62fe-6634-4470-95ee-c5d56cd3a63a"
   },
   "outputs": [
    {
     "name": "stdout",
     "output_type": "stream",
     "text": [
      "[[-0.39820843]\n",
      " [-0.37738556]\n",
      " [ 0.1640092 ]\n",
      " ...\n",
      " [ 2.03806797]\n",
      " [ 0.3305922 ]\n",
      " [ 0.28894645]]\n",
      "[[-0.43819769]\n",
      " [-0.22258873]\n",
      " [ 0.49552213]\n",
      " ...\n",
      " [ 2.67145829]\n",
      " [ 0.07874908]\n",
      " [ 0.60173174]]\n"
     ]
    }
   ],
   "source": [
    "from sklearn.preprocessing import StandardScaler\n",
    "std = StandardScaler()\n",
    "y_std = std.fit_transform(y)\n",
    "print(y_std)\n",
    "x_std = std.fit_transform(X)\n",
    "print(x_std)"
   ]
  },
  {
   "cell_type": "code",
   "execution_count": 25,
   "metadata": {
    "id": "LbYPTqQHjjnI"
   },
   "outputs": [],
   "source": [
    "from sklearn.model_selection import train_test_split\n",
    "X_train, X_test, y_train, y_test = train_test_split(x_std, y_std, test_size=0.2, random_state=0)"
   ]
  },
  {
   "cell_type": "code",
   "execution_count": 26,
   "metadata": {
    "colab": {
     "base_uri": "https://localhost:8080/"
    },
    "id": "o1pELJFBjm45",
    "outputId": "d5b2a0d8-71e0-403e-9004-fe8b9c6e7c0f"
   },
   "outputs": [
    {
     "name": "stdout",
     "output_type": "stream",
     "text": [
      "Training set score: 0.74\n",
      "Test set score: 0.7340468\n"
     ]
    }
   ],
   "source": [
    "from sklearn.linear_model import LinearRegression\n",
    "l_reg = LinearRegression()\n",
    "l_reg.fit(X_train, y_train)\n",
    "print(\"Training set score: {:.2f}\".format(l_reg.score(X_train, y_train)))\n",
    "print(\"Test set score: {:.7f}\".format(l_reg.score(X_test, y_test)))"
   ]
  },
  {
   "cell_type": "code",
   "execution_count": 27,
   "metadata": {
    "colab": {
     "base_uri": "https://localhost:8080/",
     "height": 363
    },
    "id": "b2yUdp9Pj3iI",
    "outputId": "8517e5a6-b671-4cb4-b39a-ad91cd56ab14"
   },
   "outputs": [
    {
     "ename": "ValueError",
     "evalue": "shape mismatch: value array of shape (39890,1) could not be broadcast to indexing result of shape (1,0)",
     "output_type": "error",
     "traceback": [
      "\u001b[1;31m---------------------------------------------------------------------------\u001b[0m",
      "\u001b[1;31mValueError\u001b[0m                                Traceback (most recent call last)",
      "\u001b[1;32m<ipython-input-27-4fd8c029be04>\u001b[0m in \u001b[0;36m<module>\u001b[1;34m\u001b[0m\n\u001b[0;32m      1\u001b[0m \u001b[0my_pred\u001b[0m \u001b[1;33m=\u001b[0m \u001b[0ml_reg\u001b[0m\u001b[1;33m.\u001b[0m\u001b[0mpredict\u001b[0m\u001b[1;33m(\u001b[0m\u001b[0mX_test\u001b[0m\u001b[1;33m)\u001b[0m\u001b[1;33m\u001b[0m\u001b[1;33m\u001b[0m\u001b[0m\n\u001b[0;32m      2\u001b[0m \u001b[0mresult\u001b[0m \u001b[1;33m=\u001b[0m \u001b[0mpd\u001b[0m\u001b[1;33m.\u001b[0m\u001b[0mDataFrame\u001b[0m\u001b[1;33m(\u001b[0m\u001b[1;33m)\u001b[0m\u001b[1;33m\u001b[0m\u001b[1;33m\u001b[0m\u001b[0m\n\u001b[1;32m----> 3\u001b[1;33m \u001b[0mresult\u001b[0m\u001b[1;33m[\u001b[0m\u001b[1;33m[\u001b[0m\u001b[1;34m'Actual'\u001b[0m\u001b[1;33m]\u001b[0m\u001b[1;33m]\u001b[0m \u001b[1;33m=\u001b[0m \u001b[0my_test\u001b[0m\u001b[1;33m\u001b[0m\u001b[1;33m\u001b[0m\u001b[0m\n\u001b[0m\u001b[0;32m      4\u001b[0m \u001b[0mresult\u001b[0m\u001b[1;33m[\u001b[0m\u001b[1;33m[\u001b[0m\u001b[1;34m'Predicted'\u001b[0m\u001b[1;33m]\u001b[0m\u001b[1;33m]\u001b[0m \u001b[1;33m=\u001b[0m \u001b[0my_pred\u001b[0m\u001b[1;33m\u001b[0m\u001b[1;33m\u001b[0m\u001b[0m\n\u001b[0;32m      5\u001b[0m \u001b[0mresult\u001b[0m\u001b[1;33m.\u001b[0m\u001b[0msample\u001b[0m\u001b[1;33m(\u001b[0m\u001b[1;36m10\u001b[0m\u001b[1;33m)\u001b[0m\u001b[1;33m\u001b[0m\u001b[1;33m\u001b[0m\u001b[0m\n",
      "\u001b[1;32mC:\\Anaconda\\lib\\site-packages\\pandas\\core\\frame.py\u001b[0m in \u001b[0;36m__setitem__\u001b[1;34m(self, key, value)\u001b[0m\n\u001b[0;32m   3035\u001b[0m             \u001b[0mself\u001b[0m\u001b[1;33m.\u001b[0m\u001b[0m_setitem_frame\u001b[0m\u001b[1;33m(\u001b[0m\u001b[0mkey\u001b[0m\u001b[1;33m,\u001b[0m \u001b[0mvalue\u001b[0m\u001b[1;33m)\u001b[0m\u001b[1;33m\u001b[0m\u001b[1;33m\u001b[0m\u001b[0m\n\u001b[0;32m   3036\u001b[0m         \u001b[1;32melif\u001b[0m \u001b[0misinstance\u001b[0m\u001b[1;33m(\u001b[0m\u001b[0mkey\u001b[0m\u001b[1;33m,\u001b[0m \u001b[1;33m(\u001b[0m\u001b[0mSeries\u001b[0m\u001b[1;33m,\u001b[0m \u001b[0mnp\u001b[0m\u001b[1;33m.\u001b[0m\u001b[0mndarray\u001b[0m\u001b[1;33m,\u001b[0m \u001b[0mlist\u001b[0m\u001b[1;33m,\u001b[0m \u001b[0mIndex\u001b[0m\u001b[1;33m)\u001b[0m\u001b[1;33m)\u001b[0m\u001b[1;33m:\u001b[0m\u001b[1;33m\u001b[0m\u001b[1;33m\u001b[0m\u001b[0m\n\u001b[1;32m-> 3037\u001b[1;33m             \u001b[0mself\u001b[0m\u001b[1;33m.\u001b[0m\u001b[0m_setitem_array\u001b[0m\u001b[1;33m(\u001b[0m\u001b[0mkey\u001b[0m\u001b[1;33m,\u001b[0m \u001b[0mvalue\u001b[0m\u001b[1;33m)\u001b[0m\u001b[1;33m\u001b[0m\u001b[1;33m\u001b[0m\u001b[0m\n\u001b[0m\u001b[0;32m   3038\u001b[0m         \u001b[1;32melse\u001b[0m\u001b[1;33m:\u001b[0m\u001b[1;33m\u001b[0m\u001b[1;33m\u001b[0m\u001b[0m\n\u001b[0;32m   3039\u001b[0m             \u001b[1;31m# set column\u001b[0m\u001b[1;33m\u001b[0m\u001b[1;33m\u001b[0m\u001b[1;33m\u001b[0m\u001b[0m\n",
      "\u001b[1;32mC:\\Anaconda\\lib\\site-packages\\pandas\\core\\frame.py\u001b[0m in \u001b[0;36m_setitem_array\u001b[1;34m(self, key, value)\u001b[0m\n\u001b[0;32m   3070\u001b[0m                 )[1]\n\u001b[0;32m   3071\u001b[0m                 \u001b[0mself\u001b[0m\u001b[1;33m.\u001b[0m\u001b[0m_check_setitem_copy\u001b[0m\u001b[1;33m(\u001b[0m\u001b[1;33m)\u001b[0m\u001b[1;33m\u001b[0m\u001b[1;33m\u001b[0m\u001b[0m\n\u001b[1;32m-> 3072\u001b[1;33m                 \u001b[0mself\u001b[0m\u001b[1;33m.\u001b[0m\u001b[0miloc\u001b[0m\u001b[1;33m.\u001b[0m\u001b[0m_setitem_with_indexer\u001b[0m\u001b[1;33m(\u001b[0m\u001b[1;33m(\u001b[0m\u001b[0mslice\u001b[0m\u001b[1;33m(\u001b[0m\u001b[1;32mNone\u001b[0m\u001b[1;33m)\u001b[0m\u001b[1;33m,\u001b[0m \u001b[0mindexer\u001b[0m\u001b[1;33m)\u001b[0m\u001b[1;33m,\u001b[0m \u001b[0mvalue\u001b[0m\u001b[1;33m)\u001b[0m\u001b[1;33m\u001b[0m\u001b[1;33m\u001b[0m\u001b[0m\n\u001b[0m\u001b[0;32m   3073\u001b[0m \u001b[1;33m\u001b[0m\u001b[0m\n\u001b[0;32m   3074\u001b[0m     \u001b[1;32mdef\u001b[0m \u001b[0m_setitem_frame\u001b[0m\u001b[1;33m(\u001b[0m\u001b[0mself\u001b[0m\u001b[1;33m,\u001b[0m \u001b[0mkey\u001b[0m\u001b[1;33m,\u001b[0m \u001b[0mvalue\u001b[0m\u001b[1;33m)\u001b[0m\u001b[1;33m:\u001b[0m\u001b[1;33m\u001b[0m\u001b[1;33m\u001b[0m\u001b[0m\n",
      "\u001b[1;32mC:\\Anaconda\\lib\\site-packages\\pandas\\core\\indexing.py\u001b[0m in \u001b[0;36m_setitem_with_indexer\u001b[1;34m(self, indexer, value)\u001b[0m\n\u001b[0;32m   1800\u001b[0m             \u001b[1;31m# actually do the set\u001b[0m\u001b[1;33m\u001b[0m\u001b[1;33m\u001b[0m\u001b[1;33m\u001b[0m\u001b[0m\n\u001b[0;32m   1801\u001b[0m             \u001b[0mself\u001b[0m\u001b[1;33m.\u001b[0m\u001b[0mobj\u001b[0m\u001b[1;33m.\u001b[0m\u001b[0m_consolidate_inplace\u001b[0m\u001b[1;33m(\u001b[0m\u001b[1;33m)\u001b[0m\u001b[1;33m\u001b[0m\u001b[1;33m\u001b[0m\u001b[0m\n\u001b[1;32m-> 1802\u001b[1;33m             \u001b[0mself\u001b[0m\u001b[1;33m.\u001b[0m\u001b[0mobj\u001b[0m\u001b[1;33m.\u001b[0m\u001b[0m_mgr\u001b[0m \u001b[1;33m=\u001b[0m \u001b[0mself\u001b[0m\u001b[1;33m.\u001b[0m\u001b[0mobj\u001b[0m\u001b[1;33m.\u001b[0m\u001b[0m_mgr\u001b[0m\u001b[1;33m.\u001b[0m\u001b[0msetitem\u001b[0m\u001b[1;33m(\u001b[0m\u001b[0mindexer\u001b[0m\u001b[1;33m=\u001b[0m\u001b[0mindexer\u001b[0m\u001b[1;33m,\u001b[0m \u001b[0mvalue\u001b[0m\u001b[1;33m=\u001b[0m\u001b[0mvalue\u001b[0m\u001b[1;33m)\u001b[0m\u001b[1;33m\u001b[0m\u001b[1;33m\u001b[0m\u001b[0m\n\u001b[0m\u001b[0;32m   1803\u001b[0m             \u001b[0mself\u001b[0m\u001b[1;33m.\u001b[0m\u001b[0mobj\u001b[0m\u001b[1;33m.\u001b[0m\u001b[0m_maybe_update_cacher\u001b[0m\u001b[1;33m(\u001b[0m\u001b[0mclear\u001b[0m\u001b[1;33m=\u001b[0m\u001b[1;32mTrue\u001b[0m\u001b[1;33m)\u001b[0m\u001b[1;33m\u001b[0m\u001b[1;33m\u001b[0m\u001b[0m\n\u001b[0;32m   1804\u001b[0m \u001b[1;33m\u001b[0m\u001b[0m\n",
      "\u001b[1;32mC:\\Anaconda\\lib\\site-packages\\pandas\\core\\internals\\managers.py\u001b[0m in \u001b[0;36msetitem\u001b[1;34m(self, indexer, value)\u001b[0m\n\u001b[0;32m    532\u001b[0m \u001b[1;33m\u001b[0m\u001b[0m\n\u001b[0;32m    533\u001b[0m     \u001b[1;32mdef\u001b[0m \u001b[0msetitem\u001b[0m\u001b[1;33m(\u001b[0m\u001b[0mself\u001b[0m\u001b[1;33m,\u001b[0m \u001b[0mindexer\u001b[0m\u001b[1;33m,\u001b[0m \u001b[0mvalue\u001b[0m\u001b[1;33m)\u001b[0m \u001b[1;33m->\u001b[0m \u001b[1;34m\"BlockManager\"\u001b[0m\u001b[1;33m:\u001b[0m\u001b[1;33m\u001b[0m\u001b[1;33m\u001b[0m\u001b[0m\n\u001b[1;32m--> 534\u001b[1;33m         \u001b[1;32mreturn\u001b[0m \u001b[0mself\u001b[0m\u001b[1;33m.\u001b[0m\u001b[0mapply\u001b[0m\u001b[1;33m(\u001b[0m\u001b[1;34m\"setitem\"\u001b[0m\u001b[1;33m,\u001b[0m \u001b[0mindexer\u001b[0m\u001b[1;33m=\u001b[0m\u001b[0mindexer\u001b[0m\u001b[1;33m,\u001b[0m \u001b[0mvalue\u001b[0m\u001b[1;33m=\u001b[0m\u001b[0mvalue\u001b[0m\u001b[1;33m)\u001b[0m\u001b[1;33m\u001b[0m\u001b[1;33m\u001b[0m\u001b[0m\n\u001b[0m\u001b[0;32m    535\u001b[0m \u001b[1;33m\u001b[0m\u001b[0m\n\u001b[0;32m    536\u001b[0m     def putmask(\n",
      "\u001b[1;32mC:\\Anaconda\\lib\\site-packages\\pandas\\core\\internals\\managers.py\u001b[0m in \u001b[0;36mapply\u001b[1;34m(self, f, align_keys, **kwargs)\u001b[0m\n\u001b[0;32m    404\u001b[0m                 \u001b[0mapplied\u001b[0m \u001b[1;33m=\u001b[0m \u001b[0mb\u001b[0m\u001b[1;33m.\u001b[0m\u001b[0mapply\u001b[0m\u001b[1;33m(\u001b[0m\u001b[0mf\u001b[0m\u001b[1;33m,\u001b[0m \u001b[1;33m**\u001b[0m\u001b[0mkwargs\u001b[0m\u001b[1;33m)\u001b[0m\u001b[1;33m\u001b[0m\u001b[1;33m\u001b[0m\u001b[0m\n\u001b[0;32m    405\u001b[0m             \u001b[1;32melse\u001b[0m\u001b[1;33m:\u001b[0m\u001b[1;33m\u001b[0m\u001b[1;33m\u001b[0m\u001b[0m\n\u001b[1;32m--> 406\u001b[1;33m                 \u001b[0mapplied\u001b[0m \u001b[1;33m=\u001b[0m \u001b[0mgetattr\u001b[0m\u001b[1;33m(\u001b[0m\u001b[0mb\u001b[0m\u001b[1;33m,\u001b[0m \u001b[0mf\u001b[0m\u001b[1;33m)\u001b[0m\u001b[1;33m(\u001b[0m\u001b[1;33m**\u001b[0m\u001b[0mkwargs\u001b[0m\u001b[1;33m)\u001b[0m\u001b[1;33m\u001b[0m\u001b[1;33m\u001b[0m\u001b[0m\n\u001b[0m\u001b[0;32m    407\u001b[0m             \u001b[0mresult_blocks\u001b[0m \u001b[1;33m=\u001b[0m \u001b[0m_extend_blocks\u001b[0m\u001b[1;33m(\u001b[0m\u001b[0mapplied\u001b[0m\u001b[1;33m,\u001b[0m \u001b[0mresult_blocks\u001b[0m\u001b[1;33m)\u001b[0m\u001b[1;33m\u001b[0m\u001b[1;33m\u001b[0m\u001b[0m\n\u001b[0;32m    408\u001b[0m \u001b[1;33m\u001b[0m\u001b[0m\n",
      "\u001b[1;32mC:\\Anaconda\\lib\\site-packages\\pandas\\core\\internals\\blocks.py\u001b[0m in \u001b[0;36msetitem\u001b[1;34m(self, indexer, value)\u001b[0m\n\u001b[0;32m    889\u001b[0m         \u001b[1;31m# set\u001b[0m\u001b[1;33m\u001b[0m\u001b[1;33m\u001b[0m\u001b[1;33m\u001b[0m\u001b[0m\n\u001b[0;32m    890\u001b[0m         \u001b[1;32melse\u001b[0m\u001b[1;33m:\u001b[0m\u001b[1;33m\u001b[0m\u001b[1;33m\u001b[0m\u001b[0m\n\u001b[1;32m--> 891\u001b[1;33m             \u001b[0mvalues\u001b[0m\u001b[1;33m[\u001b[0m\u001b[0mindexer\u001b[0m\u001b[1;33m]\u001b[0m \u001b[1;33m=\u001b[0m \u001b[0mvalue\u001b[0m\u001b[1;33m\u001b[0m\u001b[1;33m\u001b[0m\u001b[0m\n\u001b[0m\u001b[0;32m    892\u001b[0m \u001b[1;33m\u001b[0m\u001b[0m\n\u001b[0;32m    893\u001b[0m         \u001b[1;32mif\u001b[0m \u001b[0mtranspose\u001b[0m\u001b[1;33m:\u001b[0m\u001b[1;33m\u001b[0m\u001b[1;33m\u001b[0m\u001b[0m\n",
      "\u001b[1;31mValueError\u001b[0m: shape mismatch: value array of shape (39890,1) could not be broadcast to indexing result of shape (1,0)"
     ]
    }
   ],
   "source": [
    "y_pred = l_reg.predict(X_test)\n",
    "result = pd.DataFrame()\n",
    "result[['Actual']] = y_test\n",
    "result[['Predicted']] = y_pred\n",
    "result.sample(10)"
   ]
  },
  {
   "cell_type": "code",
   "execution_count": 36,
   "metadata": {
    "colab": {
     "base_uri": "https://localhost:8080/"
    },
    "id": "3p9apd9Wj8PZ",
    "outputId": "3cc89e9d-99f1-4b28-b1bd-d3bae787ea7e"
   },
   "outputs": [
    {
     "name": "stdout",
     "output_type": "stream",
     "text": [
      "Mean Absolute Error: 0.2662129875793891\n",
      "Mean Squared Error: 0.2705243510778537\n",
      "Root Mean Squared Error: 0.52011955460053\n",
      "R Squared (R²): 0.8567653080822025\n"
     ]
    }
   ],
   "source": [
    "print('Mean Absolute Error:', metrics.mean_absolute_error(y_test, y_pred))\n",
    "# print('Mean Absolute % Error:', metrics.mean_absolute_percentage_error(y_test, y_pred))\n",
    "print('Mean Squared Error:', metrics.mean_squared_error(y_test, y_pred))\n",
    "print('Root Mean Squared Error:', np.sqrt(metrics.mean_squared_error(y_test, y_pred)))\n",
    "print('R Squared (R²):', np.sqrt(metrics.r2_score(y_test, y_pred)))"
   ]
  },
  {
   "cell_type": "code",
   "execution_count": 37,
   "metadata": {
    "colab": {
     "base_uri": "https://localhost:8080/",
     "height": 182
    },
    "id": "uJKhBvylj_Tf",
    "outputId": "b89aa44e-6542-4a4d-b8d6-7bfaec929cf7"
   },
   "outputs": [
    {
     "data": {
      "image/png": "[encoded data removed]",
      "text/plain": [
       "<Figure size 432x288 with 2 Axes>"
      ]
     },
     "metadata": {
      "needs_background": "light"
     },
     "output_type": "display_data"
    }
   ],
   "source": [
    "plt.subplot(2, 2, 1)\n",
    "plt.scatter(X_train, y_train, color = 'red')\n",
    "plt.plot(X_train, l_reg.predict(X_train), color =\"blue\")\n",
    "plt.title(\"Fare vs Distance (Training Set)\")\n",
    "plt.ylabel(\"fare_amount\")\n",
    "plt.xlabel(\"Distance\")\n",
    "plt.subplot(2, 2, 2)\n",
    "plt.scatter(X_test, y_test, color = 'red')\n",
    "plt.plot(X_train, l_reg.predict(X_train), color =\"blue\")\n",
    "plt.ylabel(\"fare_amount\")\n",
    "plt.xlabel(\"Distance\")\n",
    "plt.title(\"Fare vs Distance (Test Set)\")\n",
    "plt.tight_layout()\n",
    "plt.show()"
   ]
  },
  {
   "cell_type": "code",
   "execution_count": 38,
   "metadata": {
    "colab": {
     "base_uri": "https://localhost:8080/",
     "height": 81
    },
    "id": "2jCesW0jkC-4",
    "outputId": "d91622e3-733c-4c32-d60f-32e38d55f598"
   },
   "outputs": [
    {
     "data": {
      "text/html": [
       "<div>\n",
       "<style scoped>\n",
       "    .dataframe tbody tr th:only-of-type {\n",
       "        vertical-align: middle;\n",
       "    }\n",
       "\n",
       "    .dataframe tbody tr th {\n",
       "        vertical-align: top;\n",
       "    }\n",
       "\n",
       "    .dataframe thead th {\n",
       "        text-align: right;\n",
       "    }\n",
       "</style>\n",
       "<table border=\"1\" class=\"dataframe\">\n",
       "  <thead>\n",
       "    <tr style=\"text-align: right;\">\n",
       "      <th></th>\n",
       "      <th>Model</th>\n",
       "      <th>RMSE</th>\n",
       "      <th>R-Squared</th>\n",
       "    </tr>\n",
       "  </thead>\n",
       "  <tbody>\n",
       "    <tr>\n",
       "      <th>0</th>\n",
       "      <td>Linear Regresion model</td>\n",
       "      <td>0.52012</td>\n",
       "      <td>0.856765</td>\n",
       "    </tr>\n",
       "  </tbody>\n",
       "</table>\n",
       "</div>"
      ],
      "text/plain": [
       "                    Model     RMSE  R-Squared\n",
       "0  Linear Regresion model  0.52012   0.856765"
      ]
     },
     "execution_count": 38,
     "metadata": {},
     "output_type": "execute_result"
    }
   ],
   "source": [
    "cols = ['Model', 'RMSE', 'R-Squared']\n",
    "# create a empty dataframe of the colums\n",
    "# columns: specifies the columns to be selected\n",
    "result_tabulation = pd.DataFrame(columns = cols)\n",
    "# compile the required information\n",
    "linreg_metrics = pd.DataFrame([[\n",
    "\"Linear Regresion model\",\n",
    "np.sqrt(metrics.mean_squared_error(y_test, y_pred)),\n",
    "np.sqrt(metrics.r2_score(y_test, y_pred))\n",
    "]], columns = cols)\n",
    "result_tabulation = pd.concat([result_tabulation, linreg_metrics], ignore_index=True)\n",
    "result_tabulation"
   ]
  },
  {
   "cell_type": "code",
   "execution_count": 39,
   "metadata": {
    "colab": {
     "base_uri": "https://localhost:8080/"
    },
    "id": "NEJTzo_LkI4B",
    "outputId": "68de7af8-a32a-4258-ab77-c479b75397fc"
   },
   "outputs": [
    {
     "name": "stderr",
     "output_type": "stream",
     "text": [
      "<ipython-input-39-5abbb8c019d9>:3: DataConversionWarning: A column-vector y was passed when a 1d array was expected. Please change the shape of y to (n_samples,), for example using ravel().\n",
      "  rf_reg.fit(X_train, y_train)\n"
     ]
    },
    {
     "data": {
      "text/plain": [
       "RandomForestRegressor(random_state=10)"
      ]
     },
     "execution_count": 39,
     "metadata": {},
     "output_type": "execute_result"
    }
   ],
   "source": [
    "rf_reg = RandomForestRegressor(n_estimators=100, random_state=10)\n",
    "# fit the regressor with training dataset\n",
    "rf_reg.fit(X_train, y_train)"
   ]
  },
  {
   "cell_type": "code",
   "execution_count": 40,
   "metadata": {
    "colab": {
     "base_uri": "https://localhost:8080/",
     "height": 363
    },
    "id": "RK4Kt7rpkOnx",
    "outputId": "14775bb4-37f5-4a54-e0b3-434d63c653db"
   },
   "outputs": [
    {
     "ename": "ValueError",
     "evalue": "shape mismatch: value array of shape (39890,1) could not be broadcast to indexing result of shape (1,0)",
     "output_type": "error",
     "traceback": [
      "\u001b[1;31m---------------------------------------------------------------------------\u001b[0m",
      "\u001b[1;31mValueError\u001b[0m                                Traceback (most recent call last)",
      "\u001b[1;32m<ipython-input-40-bd0939187b3d>\u001b[0m in \u001b[0;36m<module>\u001b[1;34m\u001b[0m\n\u001b[0;32m      2\u001b[0m \u001b[0my_pred_RF\u001b[0m \u001b[1;33m=\u001b[0m \u001b[0mrf_reg\u001b[0m\u001b[1;33m.\u001b[0m\u001b[0mpredict\u001b[0m\u001b[1;33m(\u001b[0m\u001b[0mX_test\u001b[0m\u001b[1;33m)\u001b[0m\u001b[1;33m\u001b[0m\u001b[1;33m\u001b[0m\u001b[0m\n\u001b[0;32m      3\u001b[0m \u001b[0mresult\u001b[0m \u001b[1;33m=\u001b[0m \u001b[0mpd\u001b[0m\u001b[1;33m.\u001b[0m\u001b[0mDataFrame\u001b[0m\u001b[1;33m(\u001b[0m\u001b[1;33m)\u001b[0m\u001b[1;33m\u001b[0m\u001b[1;33m\u001b[0m\u001b[0m\n\u001b[1;32m----> 4\u001b[1;33m \u001b[0mresult\u001b[0m\u001b[1;33m[\u001b[0m\u001b[1;33m[\u001b[0m\u001b[1;34m'Actual'\u001b[0m\u001b[1;33m]\u001b[0m\u001b[1;33m]\u001b[0m \u001b[1;33m=\u001b[0m \u001b[0my_test\u001b[0m\u001b[1;33m\u001b[0m\u001b[1;33m\u001b[0m\u001b[0m\n\u001b[0m\u001b[0;32m      5\u001b[0m \u001b[0mresult\u001b[0m\u001b[1;33m[\u001b[0m\u001b[1;34m'Predicted'\u001b[0m\u001b[1;33m]\u001b[0m \u001b[1;33m=\u001b[0m \u001b[0my_pred_RF\u001b[0m\u001b[1;33m\u001b[0m\u001b[1;33m\u001b[0m\u001b[0m\n\u001b[0;32m      6\u001b[0m \u001b[0mresult\u001b[0m\u001b[1;33m.\u001b[0m\u001b[0msample\u001b[0m\u001b[1;33m(\u001b[0m\u001b[1;36m10\u001b[0m\u001b[1;33m)\u001b[0m\u001b[1;33m\u001b[0m\u001b[1;33m\u001b[0m\u001b[0m\n",
      "\u001b[1;32mC:\\Anaconda\\lib\\site-packages\\pandas\\core\\frame.py\u001b[0m in \u001b[0;36m__setitem__\u001b[1;34m(self, key, value)\u001b[0m\n\u001b[0;32m   3035\u001b[0m             \u001b[0mself\u001b[0m\u001b[1;33m.\u001b[0m\u001b[0m_setitem_frame\u001b[0m\u001b[1;33m(\u001b[0m\u001b[0mkey\u001b[0m\u001b[1;33m,\u001b[0m \u001b[0mvalue\u001b[0m\u001b[1;33m)\u001b[0m\u001b[1;33m\u001b[0m\u001b[1;33m\u001b[0m\u001b[0m\n\u001b[0;32m   3036\u001b[0m         \u001b[1;32melif\u001b[0m \u001b[0misinstance\u001b[0m\u001b[1;33m(\u001b[0m\u001b[0mkey\u001b[0m\u001b[1;33m,\u001b[0m \u001b[1;33m(\u001b[0m\u001b[0mSeries\u001b[0m\u001b[1;33m,\u001b[0m \u001b[0mnp\u001b[0m\u001b[1;33m.\u001b[0m\u001b[0mndarray\u001b[0m\u001b[1;33m,\u001b[0m \u001b[0mlist\u001b[0m\u001b[1;33m,\u001b[0m \u001b[0mIndex\u001b[0m\u001b[1;33m)\u001b[0m\u001b[1;33m)\u001b[0m\u001b[1;33m:\u001b[0m\u001b[1;33m\u001b[0m\u001b[1;33m\u001b[0m\u001b[0m\n\u001b[1;32m-> 3037\u001b[1;33m             \u001b[0mself\u001b[0m\u001b[1;33m.\u001b[0m\u001b[0m_setitem_array\u001b[0m\u001b[1;33m(\u001b[0m\u001b[0mkey\u001b[0m\u001b[1;33m,\u001b[0m \u001b[0mvalue\u001b[0m\u001b[1;33m)\u001b[0m\u001b[1;33m\u001b[0m\u001b[1;33m\u001b[0m\u001b[0m\n\u001b[0m\u001b[0;32m   3038\u001b[0m         \u001b[1;32melse\u001b[0m\u001b[1;33m:\u001b[0m\u001b[1;33m\u001b[0m\u001b[1;33m\u001b[0m\u001b[0m\n\u001b[0;32m   3039\u001b[0m             \u001b[1;31m# set column\u001b[0m\u001b[1;33m\u001b[0m\u001b[1;33m\u001b[0m\u001b[1;33m\u001b[0m\u001b[0m\n",
      "\u001b[1;32mC:\\Anaconda\\lib\\site-packages\\pandas\\core\\frame.py\u001b[0m in \u001b[0;36m_setitem_array\u001b[1;34m(self, key, value)\u001b[0m\n\u001b[0;32m   3070\u001b[0m                 )[1]\n\u001b[0;32m   3071\u001b[0m                 \u001b[0mself\u001b[0m\u001b[1;33m.\u001b[0m\u001b[0m_check_setitem_copy\u001b[0m\u001b[1;33m(\u001b[0m\u001b[1;33m)\u001b[0m\u001b[1;33m\u001b[0m\u001b[1;33m\u001b[0m\u001b[0m\n\u001b[1;32m-> 3072\u001b[1;33m                 \u001b[0mself\u001b[0m\u001b[1;33m.\u001b[0m\u001b[0miloc\u001b[0m\u001b[1;33m.\u001b[0m\u001b[0m_setitem_with_indexer\u001b[0m\u001b[1;33m(\u001b[0m\u001b[1;33m(\u001b[0m\u001b[0mslice\u001b[0m\u001b[1;33m(\u001b[0m\u001b[1;32mNone\u001b[0m\u001b[1;33m)\u001b[0m\u001b[1;33m,\u001b[0m \u001b[0mindexer\u001b[0m\u001b[1;33m)\u001b[0m\u001b[1;33m,\u001b[0m \u001b[0mvalue\u001b[0m\u001b[1;33m)\u001b[0m\u001b[1;33m\u001b[0m\u001b[1;33m\u001b[0m\u001b[0m\n\u001b[0m\u001b[0;32m   3073\u001b[0m \u001b[1;33m\u001b[0m\u001b[0m\n\u001b[0;32m   3074\u001b[0m     \u001b[1;32mdef\u001b[0m \u001b[0m_setitem_frame\u001b[0m\u001b[1;33m(\u001b[0m\u001b[0mself\u001b[0m\u001b[1;33m,\u001b[0m \u001b[0mkey\u001b[0m\u001b[1;33m,\u001b[0m \u001b[0mvalue\u001b[0m\u001b[1;33m)\u001b[0m\u001b[1;33m:\u001b[0m\u001b[1;33m\u001b[0m\u001b[1;33m\u001b[0m\u001b[0m\n",
      "\u001b[1;32mC:\\Anaconda\\lib\\site-packages\\pandas\\core\\indexing.py\u001b[0m in \u001b[0;36m_setitem_with_indexer\u001b[1;34m(self, indexer, value)\u001b[0m\n\u001b[0;32m   1800\u001b[0m             \u001b[1;31m# actually do the set\u001b[0m\u001b[1;33m\u001b[0m\u001b[1;33m\u001b[0m\u001b[1;33m\u001b[0m\u001b[0m\n\u001b[0;32m   1801\u001b[0m             \u001b[0mself\u001b[0m\u001b[1;33m.\u001b[0m\u001b[0mobj\u001b[0m\u001b[1;33m.\u001b[0m\u001b[0m_consolidate_inplace\u001b[0m\u001b[1;33m(\u001b[0m\u001b[1;33m)\u001b[0m\u001b[1;33m\u001b[0m\u001b[1;33m\u001b[0m\u001b[0m\n\u001b[1;32m-> 1802\u001b[1;33m             \u001b[0mself\u001b[0m\u001b[1;33m.\u001b[0m\u001b[0mobj\u001b[0m\u001b[1;33m.\u001b[0m\u001b[0m_mgr\u001b[0m \u001b[1;33m=\u001b[0m \u001b[0mself\u001b[0m\u001b[1;33m.\u001b[0m\u001b[0mobj\u001b[0m\u001b[1;33m.\u001b[0m\u001b[0m_mgr\u001b[0m\u001b[1;33m.\u001b[0m\u001b[0msetitem\u001b[0m\u001b[1;33m(\u001b[0m\u001b[0mindexer\u001b[0m\u001b[1;33m=\u001b[0m\u001b[0mindexer\u001b[0m\u001b[1;33m,\u001b[0m \u001b[0mvalue\u001b[0m\u001b[1;33m=\u001b[0m\u001b[0mvalue\u001b[0m\u001b[1;33m)\u001b[0m\u001b[1;33m\u001b[0m\u001b[1;33m\u001b[0m\u001b[0m\n\u001b[0m\u001b[0;32m   1803\u001b[0m             \u001b[0mself\u001b[0m\u001b[1;33m.\u001b[0m\u001b[0mobj\u001b[0m\u001b[1;33m.\u001b[0m\u001b[0m_maybe_update_cacher\u001b[0m\u001b[1;33m(\u001b[0m\u001b[0mclear\u001b[0m\u001b[1;33m=\u001b[0m\u001b[1;32mTrue\u001b[0m\u001b[1;33m)\u001b[0m\u001b[1;33m\u001b[0m\u001b[1;33m\u001b[0m\u001b[0m\n\u001b[0;32m   1804\u001b[0m \u001b[1;33m\u001b[0m\u001b[0m\n",
      "\u001b[1;32mC:\\Anaconda\\lib\\site-packages\\pandas\\core\\internals\\managers.py\u001b[0m in \u001b[0;36msetitem\u001b[1;34m(self, indexer, value)\u001b[0m\n\u001b[0;32m    532\u001b[0m \u001b[1;33m\u001b[0m\u001b[0m\n\u001b[0;32m    533\u001b[0m     \u001b[1;32mdef\u001b[0m \u001b[0msetitem\u001b[0m\u001b[1;33m(\u001b[0m\u001b[0mself\u001b[0m\u001b[1;33m,\u001b[0m \u001b[0mindexer\u001b[0m\u001b[1;33m,\u001b[0m \u001b[0mvalue\u001b[0m\u001b[1;33m)\u001b[0m \u001b[1;33m->\u001b[0m \u001b[1;34m\"BlockManager\"\u001b[0m\u001b[1;33m:\u001b[0m\u001b[1;33m\u001b[0m\u001b[1;33m\u001b[0m\u001b[0m\n\u001b[1;32m--> 534\u001b[1;33m         \u001b[1;32mreturn\u001b[0m \u001b[0mself\u001b[0m\u001b[1;33m.\u001b[0m\u001b[0mapply\u001b[0m\u001b[1;33m(\u001b[0m\u001b[1;34m\"setitem\"\u001b[0m\u001b[1;33m,\u001b[0m \u001b[0mindexer\u001b[0m\u001b[1;33m=\u001b[0m\u001b[0mindexer\u001b[0m\u001b[1;33m,\u001b[0m \u001b[0mvalue\u001b[0m\u001b[1;33m=\u001b[0m\u001b[0mvalue\u001b[0m\u001b[1;33m)\u001b[0m\u001b[1;33m\u001b[0m\u001b[1;33m\u001b[0m\u001b[0m\n\u001b[0m\u001b[0;32m    535\u001b[0m \u001b[1;33m\u001b[0m\u001b[0m\n\u001b[0;32m    536\u001b[0m     def putmask(\n",
      "\u001b[1;32mC:\\Anaconda\\lib\\site-packages\\pandas\\core\\internals\\managers.py\u001b[0m in \u001b[0;36mapply\u001b[1;34m(self, f, align_keys, **kwargs)\u001b[0m\n\u001b[0;32m    404\u001b[0m                 \u001b[0mapplied\u001b[0m \u001b[1;33m=\u001b[0m \u001b[0mb\u001b[0m\u001b[1;33m.\u001b[0m\u001b[0mapply\u001b[0m\u001b[1;33m(\u001b[0m\u001b[0mf\u001b[0m\u001b[1;33m,\u001b[0m \u001b[1;33m**\u001b[0m\u001b[0mkwargs\u001b[0m\u001b[1;33m)\u001b[0m\u001b[1;33m\u001b[0m\u001b[1;33m\u001b[0m\u001b[0m\n\u001b[0;32m    405\u001b[0m             \u001b[1;32melse\u001b[0m\u001b[1;33m:\u001b[0m\u001b[1;33m\u001b[0m\u001b[1;33m\u001b[0m\u001b[0m\n\u001b[1;32m--> 406\u001b[1;33m                 \u001b[0mapplied\u001b[0m \u001b[1;33m=\u001b[0m \u001b[0mgetattr\u001b[0m\u001b[1;33m(\u001b[0m\u001b[0mb\u001b[0m\u001b[1;33m,\u001b[0m \u001b[0mf\u001b[0m\u001b[1;33m)\u001b[0m\u001b[1;33m(\u001b[0m\u001b[1;33m**\u001b[0m\u001b[0mkwargs\u001b[0m\u001b[1;33m)\u001b[0m\u001b[1;33m\u001b[0m\u001b[1;33m\u001b[0m\u001b[0m\n\u001b[0m\u001b[0;32m    407\u001b[0m             \u001b[0mresult_blocks\u001b[0m \u001b[1;33m=\u001b[0m \u001b[0m_extend_blocks\u001b[0m\u001b[1;33m(\u001b[0m\u001b[0mapplied\u001b[0m\u001b[1;33m,\u001b[0m \u001b[0mresult_blocks\u001b[0m\u001b[1;33m)\u001b[0m\u001b[1;33m\u001b[0m\u001b[1;33m\u001b[0m\u001b[0m\n\u001b[0;32m    408\u001b[0m \u001b[1;33m\u001b[0m\u001b[0m\n",
      "\u001b[1;32mC:\\Anaconda\\lib\\site-packages\\pandas\\core\\internals\\blocks.py\u001b[0m in \u001b[0;36msetitem\u001b[1;34m(self, indexer, value)\u001b[0m\n\u001b[0;32m    889\u001b[0m         \u001b[1;31m# set\u001b[0m\u001b[1;33m\u001b[0m\u001b[1;33m\u001b[0m\u001b[1;33m\u001b[0m\u001b[0m\n\u001b[0;32m    890\u001b[0m         \u001b[1;32melse\u001b[0m\u001b[1;33m:\u001b[0m\u001b[1;33m\u001b[0m\u001b[1;33m\u001b[0m\u001b[0m\n\u001b[1;32m--> 891\u001b[1;33m             \u001b[0mvalues\u001b[0m\u001b[1;33m[\u001b[0m\u001b[0mindexer\u001b[0m\u001b[1;33m]\u001b[0m \u001b[1;33m=\u001b[0m \u001b[0mvalue\u001b[0m\u001b[1;33m\u001b[0m\u001b[1;33m\u001b[0m\u001b[0m\n\u001b[0m\u001b[0;32m    892\u001b[0m \u001b[1;33m\u001b[0m\u001b[0m\n\u001b[0;32m    893\u001b[0m         \u001b[1;32mif\u001b[0m \u001b[0mtranspose\u001b[0m\u001b[1;33m:\u001b[0m\u001b[1;33m\u001b[0m\u001b[1;33m\u001b[0m\u001b[0m\n",
      "\u001b[1;31mValueError\u001b[0m: shape mismatch: value array of shape (39890,1) could not be broadcast to indexing result of shape (1,0)"
     ]
    }
   ],
   "source": [
    "# predict the values on test dataset using predict()\n",
    "y_pred_RF = rf_reg.predict(X_test)\n",
    "result = pd.DataFrame()\n",
    "result[['Actual']] = y_test\n",
    "result['Predicted'] = y_pred_RF\n",
    "result.sample(10)"
   ]
  },
  {
   "cell_type": "code",
   "execution_count": 41,
   "metadata": {
    "colab": {
     "base_uri": "https://localhost:8080/"
    },
    "id": "3_aeqlcrkVM8",
    "outputId": "f2f2bd47-a304-4747-d6b5-f6da1b16976f"
   },
   "outputs": [
    {
     "name": "stdout",
     "output_type": "stream",
     "text": [
      "Mean Absolute Error: 0.3077087698385678\n",
      "Mean Squared Error: 0.33297733033643484\n",
      "Root Mean Squared Error: 0.5770418791876677\n",
      "R Squared (R²): 0.8201518783882692\n"
     ]
    }
   ],
   "source": [
    "print('Mean Absolute Error:', metrics.mean_absolute_error(y_test, y_pred_RF))\n",
    "# print('Mean Absolute % Error:', metrics.mean_absolute_percentage_error(y_test, y_pred_RF))\n",
    "print('Mean Squared Error:', metrics.mean_squared_error(y_test, y_pred_RF))\n",
    "print('Root Mean Squared Error:', np.sqrt(metrics.mean_squared_error(y_test, y_pred_RF)))\n",
    "print('R Squared (R²):', np.sqrt(metrics.r2_score(y_test, y_pred_RF)))"
   ]
  },
  {
   "cell_type": "code",
   "execution_count": 42,
   "metadata": {
    "colab": {
     "base_uri": "https://localhost:8080/",
     "height": 297
    },
    "id": "Px9g5A7wkZgg",
    "outputId": "189bd80d-be73-446d-ac74-e35632d00646"
   },
   "outputs": [
    {
     "data": {
      "image/png": "[encoded data removed]",
      "text/plain": [
       "<Figure size 432x288 with 1 Axes>"
      ]
     },
     "metadata": {
      "needs_background": "light"
     },
     "output_type": "display_data"
    }
   ],
   "source": [
    "# Build scatterplot\n",
    "plt.scatter(X_test, y_test, c = 'b', alpha = 0.5, marker = '.', label = 'Real')\n",
    "plt.scatter(X_test, y_pred_RF, c = 'r', alpha = 0.5, marker = '.', label = 'Predicted')\n",
    "plt.xlabel('Carat')\n",
    "plt.ylabel('Price')\n",
    "plt.grid(color = '#D3D3D3', linestyle = 'solid')\n",
    "plt.legend(loc = 'lower right')\n",
    "plt.tight_layout()\n",
    "plt.show()"
   ]
  },
  {
   "cell_type": "code",
   "execution_count": 43,
   "metadata": {
    "colab": {
     "base_uri": "https://localhost:8080/",
     "height": 112
    },
    "id": "kFslGXNfkfT_",
    "outputId": "1dec2c66-1f70-4367-e49e-975ee35f59b2"
   },
   "outputs": [
    {
     "data": {
      "text/html": [
       "<div>\n",
       "<style scoped>\n",
       "    .dataframe tbody tr th:only-of-type {\n",
       "        vertical-align: middle;\n",
       "    }\n",
       "\n",
       "    .dataframe tbody tr th {\n",
       "        vertical-align: top;\n",
       "    }\n",
       "\n",
       "    .dataframe thead th {\n",
       "        text-align: right;\n",
       "    }\n",
       "</style>\n",
       "<table border=\"1\" class=\"dataframe\">\n",
       "  <thead>\n",
       "    <tr style=\"text-align: right;\">\n",
       "      <th></th>\n",
       "      <th>Model</th>\n",
       "      <th>RMSE</th>\n",
       "      <th>R-Squared</th>\n",
       "    </tr>\n",
       "  </thead>\n",
       "  <tbody>\n",
       "    <tr>\n",
       "      <th>0</th>\n",
       "      <td>Linear Regresion model</td>\n",
       "      <td>0.520120</td>\n",
       "      <td>0.856765</td>\n",
       "    </tr>\n",
       "    <tr>\n",
       "      <th>1</th>\n",
       "      <td>Random Forest Regressor model</td>\n",
       "      <td>0.577042</td>\n",
       "      <td>0.820152</td>\n",
       "    </tr>\n",
       "  </tbody>\n",
       "</table>\n",
       "</div>"
      ],
      "text/plain": [
       "                           Model      RMSE  R-Squared\n",
       "0         Linear Regresion model  0.520120   0.856765\n",
       "1  Random Forest Regressor model  0.577042   0.820152"
      ]
     },
     "execution_count": 43,
     "metadata": {},
     "output_type": "execute_result"
    }
   ],
   "source": [
    "# compile the required information\n",
    "random_forest_metrics = pd.DataFrame([[\n",
    "\"Random Forest Regressor model\",\n",
    "np.sqrt(metrics.mean_squared_error(y_test, y_pred_RF)),\n",
    "np.sqrt(metrics.r2_score(y_test, y_pred_RF))\n",
    "]], columns = cols)\n",
    "result_tabulation = pd.concat([result_tabulation, random_forest_metrics], ignore_index=True)\n",
    "result_tabulation"
   ]
  },
  {
   "cell_type": "code",
   "execution_count": null,
   "metadata": {},
   "outputs": [],
   "source": []
  },
  {
   "cell_type": "code",
   "execution_count": null,
   "metadata": {},
   "outputs": [],
   "source": []
  }
 ],
 "metadata": {
  "colab": {
   "provenance": []
  },
  "kernelspec": {
   "display_name": "Python 3",
   "language": "python",
   "name": "python3"
  },
  "language_info": {
   "codemirror_mode": {
    "name": "ipython",
    "version": 3
   },
   "file_extension": ".py",
   "mimetype": "text/x-python",
   "name": "python",
   "nbconvert_exporter": "python",
   "pygments_lexer": "ipython3",
   "version": "3.8.5"
  }
 },
 "nbformat": 4,
 "nbformat_minor": 1
}
